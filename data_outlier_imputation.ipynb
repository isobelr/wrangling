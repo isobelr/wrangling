{
 "cells": [
  {
   "cell_type": "markdown",
   "metadata": {},
   "source": [
    "# FIT5196 Assessment 2\n",
    "#### Student Name: Isobel Rowe\n",
    "#### Student ID: 30042585\n",
    "\n",
    "Date: 15/05/2019\n",
    "\n",
    "Version: 2.0\n",
    "\n",
    "Environment: Python 3.6.0 and Anaconda 4.3.0 (64-bit)\n",
    "\n",
    "Libraries used:\n",
    "* pandas (for dataframe)\n",
    "* numpy (for various mathematical funtions)\n",
    "* datetime (for converting datatypes)\n",
    "* matplotlib.pyplot (for graphing)\n",
    "* seaborn (for plotting boxplots)\n",
    "* networkx (for finding paths)\n",
    "* sklearn.model_selection (for train_test_split)\n",
    "* sklearn.metrics (for R squared and mean squared error)\n",
    "* sklearn.linear_model (for linear regression)\n",
    "* sklearn.neighbors (for k-nearest neighbors)\n",
    "* scipy (for stats functionality)\n",
    "\n",
    "\n",
    "\n",
    "## 1. Introduction\n",
    "\n",
    "This is Assignment 2 in FIT5196, which deals with the wrangling of unclean data files to find and fix the problems. It involves taking the three provided files - dirty data, missing values, and outliers - and transforming them into cleaned datasets with the use of graphical and non-graphical exploratory data analysis. The data files comprise 14 columns and varying row numbers of Uber Trip data.\n",
    "\n",
    "Each dataset is explored in different sections:\n",
    "\n",
    "- **Section 3: Dirty Data.** In this task, we are required to detect and fix errors in the dirty data dataset (30042585_dirty_data.csv).\n",
    "\n",
    "- **Section 4: Outlier Data.** In this task, we are required to detect and remove outliers by in the outliers dataset (30042585_outliers.csv).\n",
    "\n",
    "- **Section 5: Missing Value Data.** In this task, we are required to impute the missing values in the missing value dataset (30042585_missing_value.csv).\n",
    "\n",
    "\n",
    "More details for each task will be given in the following sections.\n"
   ]
  },
  {
   "cell_type": "markdown",
   "metadata": {},
   "source": [
    "## 2.  Import libraries "
   ]
  },
  {
   "cell_type": "code",
   "execution_count": 1,
   "metadata": {},
   "outputs": [],
   "source": [
    "import pandas as pd\n",
    "import numpy as np\n",
    "import datetime as dt\n",
    "import matplotlib.pyplot as plt\n",
    "%matplotlib inline\n",
    "import networkx as nx\n",
    "from scipy import stats\n",
    "import seaborn as sns\n",
    "sns.set(rc={'figure.figsize':(20,3)})\n",
    "from sklearn.model_selection import train_test_split\n",
    "from sklearn.metrics import r2_score\n",
    "from sklearn.metrics import mean_squared_error\n",
    "from sklearn.linear_model import LinearRegression\n",
    "from sklearn.neighbors import KNeighborsClassifier\n",
    "from IPython.display import display #do we need this?\n",
    "import warnings\n",
    "warnings.filterwarnings('ignore')"
   ]
  },
  {
   "cell_type": "markdown",
   "metadata": {},
   "source": [
    "## 3. Dirty Data\n",
    "\n",
    "### Opening and reading file\n",
    "\n",
    "First, I read in the file to a dataframe called 'dd' for 'Dirty Data', and have a peak at the shape and head of it."
   ]
  },
  {
   "cell_type": "code",
   "execution_count": 2,
   "metadata": {},
   "outputs": [
    {
     "name": "stdout",
     "output_type": "stream",
     "text": [
      "Shape:  (300, 14)\n"
     ]
    },
    {
     "data": {
      "text/html": [
       "<div>\n",
       "<style scoped>\n",
       "    .dataframe tbody tr th:only-of-type {\n",
       "        vertical-align: middle;\n",
       "    }\n",
       "\n",
       "    .dataframe tbody tr th {\n",
       "        vertical-align: top;\n",
       "    }\n",
       "\n",
       "    .dataframe thead th {\n",
       "        text-align: right;\n",
       "    }\n",
       "</style>\n",
       "<table border=\"1\" class=\"dataframe\">\n",
       "  <thead>\n",
       "    <tr style=\"text-align: right;\">\n",
       "      <th></th>\n",
       "      <th>Unnamed: 0</th>\n",
       "      <th>Uber Type</th>\n",
       "      <th>Origin Region</th>\n",
       "      <th>Destination Region</th>\n",
       "      <th>Origin Latitude</th>\n",
       "      <th>Origin Longitude</th>\n",
       "      <th>Destination Latitude</th>\n",
       "      <th>Destination Longitude</th>\n",
       "      <th>Journey Distance(m)</th>\n",
       "      <th>Departure Date</th>\n",
       "      <th>Departure Time</th>\n",
       "      <th>Travel Time(s)</th>\n",
       "      <th>Arrival Time</th>\n",
       "      <th>Fare$</th>\n",
       "    </tr>\n",
       "  </thead>\n",
       "  <tbody>\n",
       "    <tr>\n",
       "      <th>0</th>\n",
       "      <td>ID1958251255</td>\n",
       "      <td>0</td>\n",
       "      <td>9</td>\n",
       "      <td>5</td>\n",
       "      <td>-38.110916</td>\n",
       "      <td>144.654173</td>\n",
       "      <td>-37.804697</td>\n",
       "      <td>144.927112</td>\n",
       "      <td>44082.0</td>\n",
       "      <td>2018-02-24</td>\n",
       "      <td>09:41:28</td>\n",
       "      <td>10530.18</td>\n",
       "      <td>12:36:58</td>\n",
       "      <td>22.32</td>\n",
       "    </tr>\n",
       "    <tr>\n",
       "      <th>1</th>\n",
       "      <td>ID3328320168</td>\n",
       "      <td>1</td>\n",
       "      <td>7</td>\n",
       "      <td>1</td>\n",
       "      <td>-37.861835</td>\n",
       "      <td>144.905716</td>\n",
       "      <td>-37.820491</td>\n",
       "      <td>144.965925</td>\n",
       "      <td>7426.8</td>\n",
       "      <td>2018-04-18</td>\n",
       "      <td>06:26:22</td>\n",
       "      <td>2636.16</td>\n",
       "      <td>7:10:18</td>\n",
       "      <td>13.15</td>\n",
       "    </tr>\n",
       "    <tr>\n",
       "      <th>2</th>\n",
       "      <td>ID1556119881</td>\n",
       "      <td>0</td>\n",
       "      <td>7</td>\n",
       "      <td>3</td>\n",
       "      <td>-37.861835</td>\n",
       "      <td>144.905716</td>\n",
       "      <td>-37.824062</td>\n",
       "      <td>144.984864</td>\n",
       "      <td>8862.0</td>\n",
       "      <td>2018-05-15</td>\n",
       "      <td>04:32:42</td>\n",
       "      <td>2937.12</td>\n",
       "      <td>5:21:39</td>\n",
       "      <td>14.67</td>\n",
       "    </tr>\n",
       "    <tr>\n",
       "      <th>3</th>\n",
       "      <td>ID3909610108</td>\n",
       "      <td>1</td>\n",
       "      <td>3</td>\n",
       "      <td>6</td>\n",
       "      <td>-37.824544</td>\n",
       "      <td>144.982460</td>\n",
       "      <td>-37.790797</td>\n",
       "      <td>144.985865</td>\n",
       "      <td>4120.4</td>\n",
       "      <td>2018-03-09</td>\n",
       "      <td>11:32:01</td>\n",
       "      <td>1186.20</td>\n",
       "      <td>11:51:47</td>\n",
       "      <td>7.98</td>\n",
       "    </tr>\n",
       "    <tr>\n",
       "      <th>4</th>\n",
       "      <td>ID3874426000</td>\n",
       "      <td>1</td>\n",
       "      <td>6</td>\n",
       "      <td>5</td>\n",
       "      <td>-37.773803</td>\n",
       "      <td>144.983647</td>\n",
       "      <td>-37.805092</td>\n",
       "      <td>144.936967</td>\n",
       "      <td>9684.0</td>\n",
       "      <td>2018-07-04</td>\n",
       "      <td>19:56:24</td>\n",
       "      <td>2957.94</td>\n",
       "      <td>20:45:41</td>\n",
       "      <td>20.48</td>\n",
       "    </tr>\n",
       "  </tbody>\n",
       "</table>\n",
       "</div>"
      ],
      "text/plain": [
       "     Unnamed: 0  Uber Type  Origin Region  Destination Region  \\\n",
       "0  ID1958251255          0              9                   5   \n",
       "1  ID3328320168          1              7                   1   \n",
       "2  ID1556119881          0              7                   3   \n",
       "3  ID3909610108          1              3                   6   \n",
       "4  ID3874426000          1              6                   5   \n",
       "\n",
       "   Origin Latitude  Origin Longitude  Destination Latitude  \\\n",
       "0       -38.110916        144.654173            -37.804697   \n",
       "1       -37.861835        144.905716            -37.820491   \n",
       "2       -37.861835        144.905716            -37.824062   \n",
       "3       -37.824544        144.982460            -37.790797   \n",
       "4       -37.773803        144.983647            -37.805092   \n",
       "\n",
       "   Destination Longitude  Journey Distance(m) Departure Date Departure Time  \\\n",
       "0             144.927112              44082.0     2018-02-24       09:41:28   \n",
       "1             144.965925               7426.8     2018-04-18       06:26:22   \n",
       "2             144.984864               8862.0     2018-05-15       04:32:42   \n",
       "3             144.985865               4120.4     2018-03-09       11:32:01   \n",
       "4             144.936967               9684.0     2018-07-04       19:56:24   \n",
       "\n",
       "   Travel Time(s) Arrival Time  Fare$  \n",
       "0        10530.18     12:36:58  22.32  \n",
       "1         2636.16      7:10:18  13.15  \n",
       "2         2937.12      5:21:39  14.67  \n",
       "3         1186.20     11:51:47   7.98  \n",
       "4         2957.94     20:45:41  20.48  "
      ]
     },
     "execution_count": 2,
     "metadata": {},
     "output_type": "execute_result"
    }
   ],
   "source": [
    "# Read in the file\n",
    "dd = pd.read_csv('30042585_dirty_data.csv')\n",
    "\n",
    "# Print the shape and head of the data\n",
    "print('Shape: ', dd.shape)\n",
    "dd.head()"
   ]
  },
  {
   "cell_type": "markdown",
   "metadata": {},
   "source": [
    "I renamed the column for the ID to make it easier in future explorations. I also decided to immediately check for any duplicate rows. To do this, I dropped the ID column as we know that these values have to be correct in order to be a unique identifier, and used .duplicated()."
   ]
  },
  {
   "cell_type": "code",
   "execution_count": 3,
   "metadata": {},
   "outputs": [
    {
     "name": "stdout",
     "output_type": "stream",
     "text": [
      "Number of duplicated rows:  0\n"
     ]
    }
   ],
   "source": [
    "# Rename ID column to make it easier in the future\n",
    "dd.rename(columns={'Unnamed: 0': 'ID'}, inplace=True)\n",
    "\n",
    "# Immediately check for duplicate rows\n",
    "duplicates = dd.drop(['ID'], axis=1)\n",
    "print('Number of duplicated rows: ', sum(duplicates.duplicated()))"
   ]
  },
  {
   "cell_type": "markdown",
   "metadata": {},
   "source": [
    "Now that we know theres no duplicate rows, I decided to go row-by-row to check the dirty data for any problems. First up is Uber Type.\n",
    "\n",
    "### Uber Type\n",
    "\n",
    "Using .value_counts(), I found that there's four options for Uber Type, although there's meant to be only three - uber pool, uber black, and uberx."
   ]
  },
  {
   "cell_type": "code",
   "execution_count": 4,
   "metadata": {},
   "outputs": [
    {
     "data": {
      "text/plain": [
       "1    125\n",
       "0    122\n",
       "2     49\n",
       "3      4\n",
       "Name: Uber Type, dtype: int64"
      ]
     },
     "execution_count": 4,
     "metadata": {},
     "output_type": "execute_result"
    }
   ],
   "source": [
    "dd['Uber Type'].value_counts()"
   ]
  },
  {
   "cell_type": "markdown",
   "metadata": {},
   "source": [
    "I looked at the data again and found a link between the ID and the Uber Type. If the ID:\n",
    "- Starts with 1 - the uber type is 0\n",
    "- Starts with 3 - the uber type is 1\n",
    "- Starts with 5 - the uber type is 2\n",
    "\n",
    "To fix the invalid Uber Types, I made a function shown below."
   ]
  },
  {
   "cell_type": "code",
   "execution_count": 5,
   "metadata": {},
   "outputs": [],
   "source": [
    "#Replace uber type based on the ID\n",
    "def replace_uber_type(row):\n",
    "    # Convert the ID to a string and strip\n",
    "    strid = str(row['ID'])\n",
    "    strid = strid.replace('ID','') \n",
    "    # Check if the ID starts with 1 \n",
    "    if(strid.startswith('1')): \n",
    "        #sub in uber type\n",
    "        row['Uber Type'] = 0 \n",
    "    elif(strid.startswith('3')):\n",
    "        row['Uber Type'] = 1\n",
    "    else:\n",
    "        row['Uber Type'] = 2\n",
    "    return row\n",
    "\n",
    "# Apply the function to the dataframe\n",
    "dd = dd.apply(lambda row: replace_uber_type(row), axis=1)"
   ]
  },
  {
   "cell_type": "code",
   "execution_count": 6,
   "metadata": {},
   "outputs": [
    {
     "data": {
      "text/plain": [
       "0    127\n",
       "1    123\n",
       "2     50\n",
       "Name: Uber Type, dtype: int64"
      ]
     },
     "execution_count": 6,
     "metadata": {},
     "output_type": "execute_result"
    }
   ],
   "source": [
    "# Check value counts again to ensure accuracy\n",
    "dd['Uber Type'].value_counts()"
   ]
  },
  {
   "cell_type": "markdown",
   "metadata": {},
   "source": [
    "### Departure Date\n",
    "\n",
    "When attempting to convert the Departure Date to a datetime from an object, the following error was returned:\n",
    "\n",
    "`ValueError: month must be in 1..12`\n",
    "\n",
    "This indicated that at least some of the dates are in an incorrect format. So, I count how many errors there are using 'errors = 'coerce'' which sets the value to NaN if there is invalid parsing. This found 15 errors in the Departure Date column.\n"
   ]
  },
  {
   "cell_type": "code",
   "execution_count": 7,
   "metadata": {},
   "outputs": [
    {
     "name": "stdout",
     "output_type": "stream",
     "text": [
      "There are 15 values in the incorrect format.\n"
     ]
    }
   ],
   "source": [
    "# Incorrect date format \n",
    "incorrect_date_series = pd.to_datetime(dd['Departure Date'], format='%Y-%m-%d', errors='coerce')\n",
    "\n",
    "# Find how many incorrect date formats \n",
    "print(\"There are\", incorrect_date_series.isnull().sum(), \"values in the incorrect format.\")"
   ]
  },
  {
   "cell_type": "markdown",
   "metadata": {},
   "source": [
    "To explore further, we split the Departure date into three new columns - year, month and date. Then, we find all the unique values for each."
   ]
  },
  {
   "cell_type": "code",
   "execution_count": 8,
   "metadata": {},
   "outputs": [
    {
     "name": "stdout",
     "output_type": "stream",
     "text": [
      "Years: ['2018']\n",
      "Months: ['02' '04' '05' '03' '07' '06' '01' '18' '14' '23' '15']\n",
      "Days: ['24' '18' '15' '09' '04' '07' '19' '01' '14' '22' '11' '05' '12' '13'\n",
      " '25' '28' '02' '20' '10' '26' '03' '17' '08' '21' '23' '16' '27' '06'\n",
      " '31' '30']\n"
     ]
    }
   ],
   "source": [
    "# Extract year\n",
    "dd['year'] = dd['Departure Date'].astype(str).str.split('-').str[0]\n",
    "# extract month\n",
    "dd['month'] = dd['Departure Date'].astype(str).str.split('-').str[1]\n",
    "# extract day\n",
    "dd['day'] = dd['Departure Date'].astype(str).str.split('-').str[2]\n",
    "\n",
    "# Find unique values\n",
    "year = dd['year'].unique()\n",
    "month = dd['month'].unique()\n",
    "day = dd['day'].unique()\n",
    "\n",
    "# Display\n",
    "print(\"Years:\", year)\n",
    "print(\"Months:\", month)\n",
    "print(\"Days:\", day)"
   ]
  },
  {
   "cell_type": "markdown",
   "metadata": {},
   "source": [
    "From this, we have found that the only correct months are January -> July (1-7), and there are incorrect months that are over '12', which is impossible as there are only 12 months in a year.\n",
    "\n",
    "To fix, we find the months that are more than 12."
   ]
  },
  {
   "cell_type": "code",
   "execution_count": 9,
   "metadata": {},
   "outputs": [
    {
     "data": {
      "text/html": [
       "<div>\n",
       "<style scoped>\n",
       "    .dataframe tbody tr th:only-of-type {\n",
       "        vertical-align: middle;\n",
       "    }\n",
       "\n",
       "    .dataframe tbody tr th {\n",
       "        vertical-align: top;\n",
       "    }\n",
       "\n",
       "    .dataframe thead th {\n",
       "        text-align: right;\n",
       "    }\n",
       "</style>\n",
       "<table border=\"1\" class=\"dataframe\">\n",
       "  <thead>\n",
       "    <tr style=\"text-align: right;\">\n",
       "      <th></th>\n",
       "      <th>ID</th>\n",
       "      <th>Uber Type</th>\n",
       "      <th>Origin Region</th>\n",
       "      <th>Destination Region</th>\n",
       "      <th>Origin Latitude</th>\n",
       "      <th>Origin Longitude</th>\n",
       "      <th>Destination Latitude</th>\n",
       "      <th>Destination Longitude</th>\n",
       "      <th>Journey Distance(m)</th>\n",
       "      <th>Departure Date</th>\n",
       "      <th>Departure Time</th>\n",
       "      <th>Travel Time(s)</th>\n",
       "      <th>Arrival Time</th>\n",
       "      <th>Fare$</th>\n",
       "      <th>year</th>\n",
       "      <th>month</th>\n",
       "      <th>day</th>\n",
       "    </tr>\n",
       "  </thead>\n",
       "  <tbody>\n",
       "    <tr>\n",
       "      <th>206</th>\n",
       "      <td>ID1295847917</td>\n",
       "      <td>0</td>\n",
       "      <td>8</td>\n",
       "      <td>7</td>\n",
       "      <td>-37.815834</td>\n",
       "      <td>145.046450</td>\n",
       "      <td>-37.861835</td>\n",
       "      <td>144.905716</td>\n",
       "      <td>15151.0</td>\n",
       "      <td>2018-18-06</td>\n",
       "      <td>01:55:50</td>\n",
       "      <td>4917.48</td>\n",
       "      <td>3:17:47</td>\n",
       "      <td>16.38</td>\n",
       "      <td>2018</td>\n",
       "      <td>18</td>\n",
       "      <td>06</td>\n",
       "    </tr>\n",
       "    <tr>\n",
       "      <th>207</th>\n",
       "      <td>ID1246868004</td>\n",
       "      <td>0</td>\n",
       "      <td>7</td>\n",
       "      <td>3</td>\n",
       "      <td>-37.861835</td>\n",
       "      <td>144.905716</td>\n",
       "      <td>-37.823313</td>\n",
       "      <td>144.968065</td>\n",
       "      <td>7980.0</td>\n",
       "      <td>2018-14-04</td>\n",
       "      <td>20:27:35</td>\n",
       "      <td>2778.00</td>\n",
       "      <td>21:13:53</td>\n",
       "      <td>17.18</td>\n",
       "      <td>2018</td>\n",
       "      <td>14</td>\n",
       "      <td>04</td>\n",
       "    </tr>\n",
       "    <tr>\n",
       "      <th>211</th>\n",
       "      <td>ID1253042508</td>\n",
       "      <td>0</td>\n",
       "      <td>1</td>\n",
       "      <td>9</td>\n",
       "      <td>-37.821287</td>\n",
       "      <td>144.962609</td>\n",
       "      <td>-38.110916</td>\n",
       "      <td>144.654173</td>\n",
       "      <td>43506.0</td>\n",
       "      <td>2018-23-03</td>\n",
       "      <td>07:34:19</td>\n",
       "      <td>10579.32</td>\n",
       "      <td>10:30:38</td>\n",
       "      <td>15.42</td>\n",
       "      <td>2018</td>\n",
       "      <td>23</td>\n",
       "      <td>03</td>\n",
       "    </tr>\n",
       "    <tr>\n",
       "      <th>217</th>\n",
       "      <td>ID3521275876</td>\n",
       "      <td>1</td>\n",
       "      <td>3</td>\n",
       "      <td>5</td>\n",
       "      <td>-37.819681</td>\n",
       "      <td>144.971151</td>\n",
       "      <td>-37.802587</td>\n",
       "      <td>144.934999</td>\n",
       "      <td>4712.0</td>\n",
       "      <td>2018-18-06</td>\n",
       "      <td>21:22:10</td>\n",
       "      <td>1242.90</td>\n",
       "      <td>21:42:52</td>\n",
       "      <td>19.56</td>\n",
       "      <td>2018</td>\n",
       "      <td>18</td>\n",
       "      <td>06</td>\n",
       "    </tr>\n",
       "    <tr>\n",
       "      <th>219</th>\n",
       "      <td>ID1914828954</td>\n",
       "      <td>0</td>\n",
       "      <td>4</td>\n",
       "      <td>7</td>\n",
       "      <td>-37.806385</td>\n",
       "      <td>145.010033</td>\n",
       "      <td>-37.861835</td>\n",
       "      <td>144.905716</td>\n",
       "      <td>12376.0</td>\n",
       "      <td>2018-15-04</td>\n",
       "      <td>15:10:18</td>\n",
       "      <td>3952.08</td>\n",
       "      <td>16:16:10</td>\n",
       "      <td>15.31</td>\n",
       "      <td>2018</td>\n",
       "      <td>15</td>\n",
       "      <td>04</td>\n",
       "    </tr>\n",
       "  </tbody>\n",
       "</table>\n",
       "</div>"
      ],
      "text/plain": [
       "               ID  Uber Type  Origin Region  Destination Region  \\\n",
       "206  ID1295847917          0              8                   7   \n",
       "207  ID1246868004          0              7                   3   \n",
       "211  ID1253042508          0              1                   9   \n",
       "217  ID3521275876          1              3                   5   \n",
       "219  ID1914828954          0              4                   7   \n",
       "\n",
       "     Origin Latitude  Origin Longitude  Destination Latitude  \\\n",
       "206       -37.815834        145.046450            -37.861835   \n",
       "207       -37.861835        144.905716            -37.823313   \n",
       "211       -37.821287        144.962609            -38.110916   \n",
       "217       -37.819681        144.971151            -37.802587   \n",
       "219       -37.806385        145.010033            -37.861835   \n",
       "\n",
       "     Destination Longitude  Journey Distance(m) Departure Date Departure Time  \\\n",
       "206             144.905716              15151.0     2018-18-06       01:55:50   \n",
       "207             144.968065               7980.0     2018-14-04       20:27:35   \n",
       "211             144.654173              43506.0     2018-23-03       07:34:19   \n",
       "217             144.934999               4712.0     2018-18-06       21:22:10   \n",
       "219             144.905716              12376.0     2018-15-04       15:10:18   \n",
       "\n",
       "     Travel Time(s) Arrival Time  Fare$  year month day  \n",
       "206         4917.48      3:17:47  16.38  2018    18  06  \n",
       "207         2778.00     21:13:53  17.18  2018    14  04  \n",
       "211        10579.32     10:30:38  15.42  2018    23  03  \n",
       "217         1242.90     21:42:52  19.56  2018    18  06  \n",
       "219         3952.08     16:16:10  15.31  2018    15  04  "
      ]
     },
     "metadata": {},
     "output_type": "display_data"
    }
   ],
   "source": [
    "# Find months over 12\n",
    "df_12= dd[(dd['month'] > '12')]\n",
    "display(df_12)"
   ]
  },
  {
   "cell_type": "markdown",
   "metadata": {},
   "source": [
    "Looking at the above dataframe, it looks like the month and day have been switched, so we simply need to swap them back around."
   ]
  },
  {
   "cell_type": "code",
   "execution_count": 10,
   "metadata": {},
   "outputs": [],
   "source": [
    "# Switch month and day where month is over 12\n",
    "dd.loc[(dd['month'] == '18') & (dd['day'] == '06'), ['Departure Date']] = '2018-06-18'\n",
    "dd.loc[(dd['month'] == '14') & (dd['day'] == '04'), ['Departure Date']] = '2018-04-14'\n",
    "dd.loc[(dd['month'] == '23') & (dd['day'] == '03'), ['Departure Date']] = '2018-03-23'\n",
    "dd.loc[(dd['month'] == '18') & (dd['day'] == '06'), ['Departure Date']] = '2018-06-18'\n",
    "dd.loc[(dd['month'] == '15') & (dd['day'] == '04'), ['Departure Date']] = '2018-04-15'"
   ]
  },
  {
   "cell_type": "markdown",
   "metadata": {},
   "source": [
    "That fixed 5 incorrect values, but there's still 10 more incorrect dates. These errors come from days that are outside the range for the given month, eg. 2018-06-31 - there can't be 31st of June as there is only 30 days in June.\n",
    "\n",
    "To fix this, we convert any days that are outside the month's day range to the 1st day of the next month. eg. 2018-06-31 --> 2018-07-01.\n"
   ]
  },
  {
   "cell_type": "code",
   "execution_count": 11,
   "metadata": {},
   "outputs": [],
   "source": [
    "# 28 day month\n",
    "dd.loc[(dd['month'] == '02') & (dd['day'] > '28'), ['Departure Date']] = '2018-03-01'\n",
    "\n",
    "# 30 day months\n",
    "dd.loc[(dd['month'] == '04') & (dd['day'] > '30'), ['Departure Date']] = '2018-05-01'\n",
    "dd.loc[(dd['month'] == '06') & (dd['day'] > '30'), ['Departure Date']] = '2018-07-01'\n",
    "\n",
    "# 31 day months\n",
    "dd.loc[(dd['month'] == '01') & (dd['day'] > '31'), ['Departure Date']] = '2018-02-01'\n",
    "dd.loc[(dd['month'] == '03') & (dd['day'] > '31'), ['Departure Date']] = '2018-04-01'\n",
    "dd.loc[(dd['month'] == '05') & (dd['day'] > '31'), ['Departure Date']] = '2018-06-01'\n",
    "dd.loc[(dd['month'] == '07') & (dd['day'] > '31'), ['Departure Date']] = '2018-08-01'"
   ]
  },
  {
   "cell_type": "code",
   "execution_count": 12,
   "metadata": {},
   "outputs": [
    {
     "name": "stdout",
     "output_type": "stream",
     "text": [
      "There are 0 values in the incorrect format.\n"
     ]
    }
   ],
   "source": [
    "# Final check on errors\n",
    "incorrect_date_series = pd.to_datetime(dd['Departure Date'], format='%Y-%m-%d', errors='coerce')\n",
    "print(\"There are\", incorrect_date_series.isnull().sum(), \"values in the incorrect format.\")"
   ]
  },
  {
   "cell_type": "markdown",
   "metadata": {},
   "source": [
    "Finally, we can convert the column to a datetime data type, and clean up the dataframe by removing the temporary columns."
   ]
  },
  {
   "cell_type": "code",
   "execution_count": 13,
   "metadata": {},
   "outputs": [],
   "source": [
    "# Convert to datetime\n",
    "dd['Departure Date'] = pd.to_datetime(dd['Departure Date'], format = '%Y-%m-%d')\n",
    "\n",
    "# Drop temporary columns\n",
    "dd.drop(dd[['year', 'month', 'day']], axis=1, inplace = True)"
   ]
  },
  {
   "cell_type": "markdown",
   "metadata": {},
   "source": [
    "### Origin/Destination Latitude \n",
    "\n",
    "We can see from the following that there is incorrect Latitude values for both the origin and desination as the maximum is a positive number, when Latitude values are negative."
   ]
  },
  {
   "cell_type": "code",
   "execution_count": 14,
   "metadata": {},
   "outputs": [
    {
     "data": {
      "text/plain": [
       "count    300.000000\n",
       "mean     -36.584152\n",
       "std        9.702187\n",
       "min      -38.110916\n",
       "25%      -37.822570\n",
       "50%      -37.814816\n",
       "75%      -37.804000\n",
       "max       37.821113\n",
       "Name: Origin Latitude, dtype: float64"
      ]
     },
     "metadata": {},
     "output_type": "display_data"
    },
    {
     "data": {
      "text/plain": [
       "count    300.000000\n",
       "mean     -36.581790\n",
       "std        9.701318\n",
       "min      -38.110916\n",
       "25%      -37.821203\n",
       "50%      -37.813293\n",
       "75%      -37.804494\n",
       "max       37.820115\n",
       "Name: Destination Latitude, dtype: float64"
      ]
     },
     "metadata": {},
     "output_type": "display_data"
    }
   ],
   "source": [
    "display(dd['Origin Latitude'].describe())\n",
    "display(dd['Destination Latitude'].describe())"
   ]
  },
  {
   "cell_type": "markdown",
   "metadata": {},
   "source": [
    "Have a look at the incorrect values."
   ]
  },
  {
   "cell_type": "code",
   "execution_count": 15,
   "metadata": {},
   "outputs": [
    {
     "name": "stdout",
     "output_type": "stream",
     "text": [
      "Origin:\n"
     ]
    },
    {
     "data": {
      "text/html": [
       "<div>\n",
       "<style scoped>\n",
       "    .dataframe tbody tr th:only-of-type {\n",
       "        vertical-align: middle;\n",
       "    }\n",
       "\n",
       "    .dataframe tbody tr th {\n",
       "        vertical-align: top;\n",
       "    }\n",
       "\n",
       "    .dataframe thead th {\n",
       "        text-align: right;\n",
       "    }\n",
       "</style>\n",
       "<table border=\"1\" class=\"dataframe\">\n",
       "  <thead>\n",
       "    <tr style=\"text-align: right;\">\n",
       "      <th></th>\n",
       "      <th>ID</th>\n",
       "      <th>Uber Type</th>\n",
       "      <th>Origin Region</th>\n",
       "      <th>Destination Region</th>\n",
       "      <th>Origin Latitude</th>\n",
       "      <th>Origin Longitude</th>\n",
       "      <th>Destination Latitude</th>\n",
       "      <th>Destination Longitude</th>\n",
       "      <th>Journey Distance(m)</th>\n",
       "      <th>Departure Date</th>\n",
       "      <th>Departure Time</th>\n",
       "      <th>Travel Time(s)</th>\n",
       "      <th>Arrival Time</th>\n",
       "      <th>Fare$</th>\n",
       "    </tr>\n",
       "  </thead>\n",
       "  <tbody>\n",
       "    <tr>\n",
       "      <th>50</th>\n",
       "      <td>ID3768005889</td>\n",
       "      <td>1</td>\n",
       "      <td>5</td>\n",
       "      <td>3</td>\n",
       "      <td>37.806595</td>\n",
       "      <td>144.932262</td>\n",
       "      <td>-37.825373</td>\n",
       "      <td>144.995268</td>\n",
       "      <td>6609.0</td>\n",
       "      <td>2018-03-04</td>\n",
       "      <td>18:25:59</td>\n",
       "      <td>1723.74</td>\n",
       "      <td>18:54:42</td>\n",
       "      <td>19.73</td>\n",
       "    </tr>\n",
       "    <tr>\n",
       "      <th>53</th>\n",
       "      <td>ID1176603210</td>\n",
       "      <td>0</td>\n",
       "      <td>2</td>\n",
       "      <td>4</td>\n",
       "      <td>37.821113</td>\n",
       "      <td>144.947281</td>\n",
       "      <td>-37.812519</td>\n",
       "      <td>145.013206</td>\n",
       "      <td>6465.0</td>\n",
       "      <td>2018-07-15</td>\n",
       "      <td>17:55:02</td>\n",
       "      <td>1672.50</td>\n",
       "      <td>18:22:54</td>\n",
       "      <td>14.01</td>\n",
       "    </tr>\n",
       "    <tr>\n",
       "      <th>56</th>\n",
       "      <td>ID5220308476</td>\n",
       "      <td>2</td>\n",
       "      <td>1</td>\n",
       "      <td>3</td>\n",
       "      <td>37.807427</td>\n",
       "      <td>144.942262</td>\n",
       "      <td>-37.815490</td>\n",
       "      <td>144.996452</td>\n",
       "      <td>5569.0</td>\n",
       "      <td>2018-06-26</td>\n",
       "      <td>12:28:17</td>\n",
       "      <td>1382.46</td>\n",
       "      <td>12:51:19</td>\n",
       "      <td>144.06</td>\n",
       "    </tr>\n",
       "    <tr>\n",
       "      <th>58</th>\n",
       "      <td>ID3938560549</td>\n",
       "      <td>1</td>\n",
       "      <td>8</td>\n",
       "      <td>7</td>\n",
       "      <td>37.815834</td>\n",
       "      <td>145.046450</td>\n",
       "      <td>-37.861835</td>\n",
       "      <td>144.905716</td>\n",
       "      <td>15151.0</td>\n",
       "      <td>2018-04-21</td>\n",
       "      <td>22:54:23</td>\n",
       "      <td>4917.48</td>\n",
       "      <td>0:16:20</td>\n",
       "      <td>35.33</td>\n",
       "    </tr>\n",
       "    <tr>\n",
       "      <th>59</th>\n",
       "      <td>ID3991131130</td>\n",
       "      <td>1</td>\n",
       "      <td>2</td>\n",
       "      <td>9</td>\n",
       "      <td>37.809891</td>\n",
       "      <td>144.935733</td>\n",
       "      <td>-38.110916</td>\n",
       "      <td>144.654173</td>\n",
       "      <td>42832.0</td>\n",
       "      <td>2018-06-23</td>\n",
       "      <td>12:37:25</td>\n",
       "      <td>10260.06</td>\n",
       "      <td>15:28:25</td>\n",
       "      <td>50.10</td>\n",
       "    </tr>\n",
       "  </tbody>\n",
       "</table>\n",
       "</div>"
      ],
      "text/plain": [
       "              ID  Uber Type  Origin Region  Destination Region  \\\n",
       "50  ID3768005889          1              5                   3   \n",
       "53  ID1176603210          0              2                   4   \n",
       "56  ID5220308476          2              1                   3   \n",
       "58  ID3938560549          1              8                   7   \n",
       "59  ID3991131130          1              2                   9   \n",
       "\n",
       "    Origin Latitude  Origin Longitude  Destination Latitude  \\\n",
       "50        37.806595        144.932262            -37.825373   \n",
       "53        37.821113        144.947281            -37.812519   \n",
       "56        37.807427        144.942262            -37.815490   \n",
       "58        37.815834        145.046450            -37.861835   \n",
       "59        37.809891        144.935733            -38.110916   \n",
       "\n",
       "    Destination Longitude  Journey Distance(m) Departure Date Departure Time  \\\n",
       "50             144.995268               6609.0     2018-03-04       18:25:59   \n",
       "53             145.013206               6465.0     2018-07-15       17:55:02   \n",
       "56             144.996452               5569.0     2018-06-26       12:28:17   \n",
       "58             144.905716              15151.0     2018-04-21       22:54:23   \n",
       "59             144.654173              42832.0     2018-06-23       12:37:25   \n",
       "\n",
       "    Travel Time(s) Arrival Time   Fare$  \n",
       "50         1723.74     18:54:42   19.73  \n",
       "53         1672.50     18:22:54   14.01  \n",
       "56         1382.46     12:51:19  144.06  \n",
       "58         4917.48      0:16:20   35.33  \n",
       "59        10260.06     15:28:25   50.10  "
      ]
     },
     "metadata": {},
     "output_type": "display_data"
    },
    {
     "name": "stdout",
     "output_type": "stream",
     "text": [
      "\n",
      " Destination:\n"
     ]
    },
    {
     "data": {
      "text/html": [
       "<div>\n",
       "<style scoped>\n",
       "    .dataframe tbody tr th:only-of-type {\n",
       "        vertical-align: middle;\n",
       "    }\n",
       "\n",
       "    .dataframe tbody tr th {\n",
       "        vertical-align: top;\n",
       "    }\n",
       "\n",
       "    .dataframe thead th {\n",
       "        text-align: right;\n",
       "    }\n",
       "</style>\n",
       "<table border=\"1\" class=\"dataframe\">\n",
       "  <thead>\n",
       "    <tr style=\"text-align: right;\">\n",
       "      <th></th>\n",
       "      <th>ID</th>\n",
       "      <th>Uber Type</th>\n",
       "      <th>Origin Region</th>\n",
       "      <th>Destination Region</th>\n",
       "      <th>Origin Latitude</th>\n",
       "      <th>Origin Longitude</th>\n",
       "      <th>Destination Latitude</th>\n",
       "      <th>Destination Longitude</th>\n",
       "      <th>Journey Distance(m)</th>\n",
       "      <th>Departure Date</th>\n",
       "      <th>Departure Time</th>\n",
       "      <th>Travel Time(s)</th>\n",
       "      <th>Arrival Time</th>\n",
       "      <th>Fare$</th>\n",
       "    </tr>\n",
       "  </thead>\n",
       "  <tbody>\n",
       "    <tr>\n",
       "      <th>64</th>\n",
       "      <td>ID1502666602</td>\n",
       "      <td>0</td>\n",
       "      <td>8</td>\n",
       "      <td>3</td>\n",
       "      <td>-37.807202</td>\n",
       "      <td>145.026637</td>\n",
       "      <td>37.820115</td>\n",
       "      <td>145.009817</td>\n",
       "      <td>3212.0</td>\n",
       "      <td>2018-07-13</td>\n",
       "      <td>05:59:17</td>\n",
       "      <td>758.46</td>\n",
       "      <td>6:11:55</td>\n",
       "      <td>14.06</td>\n",
       "    </tr>\n",
       "    <tr>\n",
       "      <th>65</th>\n",
       "      <td>ID1842086059</td>\n",
       "      <td>0</td>\n",
       "      <td>7</td>\n",
       "      <td>2</td>\n",
       "      <td>-37.861835</td>\n",
       "      <td>144.905716</td>\n",
       "      <td>37.814602</td>\n",
       "      <td>144.946580</td>\n",
       "      <td>9419.0</td>\n",
       "      <td>2018-06-04</td>\n",
       "      <td>01:03:43</td>\n",
       "      <td>3153.00</td>\n",
       "      <td>1:56:16</td>\n",
       "      <td>17.36</td>\n",
       "    </tr>\n",
       "    <tr>\n",
       "      <th>66</th>\n",
       "      <td>ID1626240893</td>\n",
       "      <td>0</td>\n",
       "      <td>7</td>\n",
       "      <td>6</td>\n",
       "      <td>-37.861835</td>\n",
       "      <td>144.905716</td>\n",
       "      <td>37.787442</td>\n",
       "      <td>144.980409</td>\n",
       "      <td>11630.0</td>\n",
       "      <td>2018-03-02</td>\n",
       "      <td>12:27:26</td>\n",
       "      <td>3678.54</td>\n",
       "      <td>13:28:44</td>\n",
       "      <td>13.82</td>\n",
       "    </tr>\n",
       "    <tr>\n",
       "      <th>75</th>\n",
       "      <td>ID3118819307</td>\n",
       "      <td>1</td>\n",
       "      <td>3</td>\n",
       "      <td>5</td>\n",
       "      <td>-37.817732</td>\n",
       "      <td>144.991805</td>\n",
       "      <td>37.800981</td>\n",
       "      <td>144.937490</td>\n",
       "      <td>6429.0</td>\n",
       "      <td>2018-05-15</td>\n",
       "      <td>04:14:17</td>\n",
       "      <td>1723.80</td>\n",
       "      <td>4:43:00</td>\n",
       "      <td>19.54</td>\n",
       "    </tr>\n",
       "    <tr>\n",
       "      <th>78</th>\n",
       "      <td>ID1689317636</td>\n",
       "      <td>0</td>\n",
       "      <td>3</td>\n",
       "      <td>5</td>\n",
       "      <td>-37.820067</td>\n",
       "      <td>144.968618</td>\n",
       "      <td>37.816528</td>\n",
       "      <td>144.928210</td>\n",
       "      <td>4790.0</td>\n",
       "      <td>2018-04-27</td>\n",
       "      <td>16:39:07</td>\n",
       "      <td>1145.82</td>\n",
       "      <td>16:58:12</td>\n",
       "      <td>10.94</td>\n",
       "    </tr>\n",
       "  </tbody>\n",
       "</table>\n",
       "</div>"
      ],
      "text/plain": [
       "              ID  Uber Type  Origin Region  Destination Region  \\\n",
       "64  ID1502666602          0              8                   3   \n",
       "65  ID1842086059          0              7                   2   \n",
       "66  ID1626240893          0              7                   6   \n",
       "75  ID3118819307          1              3                   5   \n",
       "78  ID1689317636          0              3                   5   \n",
       "\n",
       "    Origin Latitude  Origin Longitude  Destination Latitude  \\\n",
       "64       -37.807202        145.026637             37.820115   \n",
       "65       -37.861835        144.905716             37.814602   \n",
       "66       -37.861835        144.905716             37.787442   \n",
       "75       -37.817732        144.991805             37.800981   \n",
       "78       -37.820067        144.968618             37.816528   \n",
       "\n",
       "    Destination Longitude  Journey Distance(m) Departure Date Departure Time  \\\n",
       "64             145.009817               3212.0     2018-07-13       05:59:17   \n",
       "65             144.946580               9419.0     2018-06-04       01:03:43   \n",
       "66             144.980409              11630.0     2018-03-02       12:27:26   \n",
       "75             144.937490               6429.0     2018-05-15       04:14:17   \n",
       "78             144.928210               4790.0     2018-04-27       16:39:07   \n",
       "\n",
       "    Travel Time(s) Arrival Time  Fare$  \n",
       "64          758.46      6:11:55  14.06  \n",
       "65         3153.00      1:56:16  17.36  \n",
       "66         3678.54     13:28:44  13.82  \n",
       "75         1723.80      4:43:00  19.54  \n",
       "78         1145.82     16:58:12  10.94  "
      ]
     },
     "metadata": {},
     "output_type": "display_data"
    }
   ],
   "source": [
    "# Finding postitive origin values\n",
    "orig_lat_test = dd[(dd['Origin Latitude'] >= 0)]\n",
    "print('Origin:')\n",
    "display(orig_lat_test)\n",
    "\n",
    "# Finding postitive destination values\n",
    "dest_lat_test = dd[(dd['Destination Latitude'] >= 0)]\n",
    "print('\\n Destination:')\n",
    "display(dest_lat_test)"
   ]
  },
  {
   "cell_type": "markdown",
   "metadata": {},
   "source": [
    "To fix these incorrect values, it's as simple as converting the postitive values into negative with a for loop that finds the positive values, and multiplies them by -1."
   ]
  },
  {
   "cell_type": "code",
   "execution_count": 16,
   "metadata": {},
   "outputs": [],
   "source": [
    "#Converting the origin latitude + value into -\n",
    "for i in range(0,len(dd[\"ID\"])):\n",
    "    if dd[\"Origin Latitude\"][i] > 0:\n",
    "        dd[\"Origin Latitude\"][i] = (dd[\"Origin Latitude\"][i]*-1)\n",
    "\n",
    "#Converting the destination latitude + value into -\n",
    "for i in range(0,len(dd[\"ID\"])):\n",
    "    if dd[\"Destination Latitude\"][i] > 0:\n",
    "        dd[\"Destination Latitude\"][i] = (dd[\"Destination Latitude\"][i]*-1)"
   ]
  },
  {
   "cell_type": "markdown",
   "metadata": {},
   "source": [
    "### Origin/Destination Region\n",
    "\n",
    "Now that the longitude and latitude have been corrected, I can explore the origin and destination regions. First, I grouped the dataframe by region and used .describe() to investigate the latitude and longitude values."
   ]
  },
  {
   "cell_type": "code",
   "execution_count": 17,
   "metadata": {},
   "outputs": [
    {
     "data": {
      "text/html": [
       "<div>\n",
       "<style scoped>\n",
       "    .dataframe tbody tr th:only-of-type {\n",
       "        vertical-align: middle;\n",
       "    }\n",
       "\n",
       "    .dataframe tbody tr th {\n",
       "        vertical-align: top;\n",
       "    }\n",
       "\n",
       "    .dataframe thead th {\n",
       "        text-align: right;\n",
       "    }\n",
       "</style>\n",
       "<table border=\"1\" class=\"dataframe\">\n",
       "  <thead>\n",
       "    <tr style=\"text-align: right;\">\n",
       "      <th></th>\n",
       "      <th>count</th>\n",
       "      <th>mean</th>\n",
       "      <th>std</th>\n",
       "      <th>min</th>\n",
       "      <th>25%</th>\n",
       "      <th>50%</th>\n",
       "      <th>75%</th>\n",
       "      <th>max</th>\n",
       "    </tr>\n",
       "    <tr>\n",
       "      <th>Origin Region</th>\n",
       "      <th></th>\n",
       "      <th></th>\n",
       "      <th></th>\n",
       "      <th></th>\n",
       "      <th></th>\n",
       "      <th></th>\n",
       "      <th></th>\n",
       "      <th></th>\n",
       "    </tr>\n",
       "  </thead>\n",
       "  <tbody>\n",
       "    <tr>\n",
       "      <th>1</th>\n",
       "      <td>36.0</td>\n",
       "      <td>-37.811581</td>\n",
       "      <td>7.347641e-03</td>\n",
       "      <td>-37.824604</td>\n",
       "      <td>-37.818588</td>\n",
       "      <td>-37.811555</td>\n",
       "      <td>-37.805921</td>\n",
       "      <td>-37.799705</td>\n",
       "    </tr>\n",
       "    <tr>\n",
       "      <th>2</th>\n",
       "      <td>30.0</td>\n",
       "      <td>-37.816519</td>\n",
       "      <td>3.962001e-03</td>\n",
       "      <td>-37.824092</td>\n",
       "      <td>-37.820667</td>\n",
       "      <td>-37.815296</td>\n",
       "      <td>-37.814380</td>\n",
       "      <td>-37.809891</td>\n",
       "    </tr>\n",
       "    <tr>\n",
       "      <th>3</th>\n",
       "      <td>31.0</td>\n",
       "      <td>-37.818142</td>\n",
       "      <td>4.779267e-03</td>\n",
       "      <td>-37.826337</td>\n",
       "      <td>-37.822148</td>\n",
       "      <td>-37.818306</td>\n",
       "      <td>-37.814682</td>\n",
       "      <td>-37.810219</td>\n",
       "    </tr>\n",
       "    <tr>\n",
       "      <th>4</th>\n",
       "      <td>35.0</td>\n",
       "      <td>-37.805601</td>\n",
       "      <td>5.568260e-03</td>\n",
       "      <td>-37.816794</td>\n",
       "      <td>-37.809602</td>\n",
       "      <td>-37.803778</td>\n",
       "      <td>-37.800773</td>\n",
       "      <td>-37.798712</td>\n",
       "    </tr>\n",
       "    <tr>\n",
       "      <th>5</th>\n",
       "      <td>35.0</td>\n",
       "      <td>-37.805060</td>\n",
       "      <td>4.257315e-03</td>\n",
       "      <td>-37.815834</td>\n",
       "      <td>-37.806559</td>\n",
       "      <td>-37.804487</td>\n",
       "      <td>-37.802387</td>\n",
       "      <td>-37.798898</td>\n",
       "    </tr>\n",
       "    <tr>\n",
       "      <th>6</th>\n",
       "      <td>33.0</td>\n",
       "      <td>-37.786662</td>\n",
       "      <td>8.082900e-03</td>\n",
       "      <td>-37.813267</td>\n",
       "      <td>-37.790797</td>\n",
       "      <td>-37.787442</td>\n",
       "      <td>-37.787433</td>\n",
       "      <td>-37.773803</td>\n",
       "    </tr>\n",
       "    <tr>\n",
       "      <th>7</th>\n",
       "      <td>35.0</td>\n",
       "      <td>-37.861835</td>\n",
       "      <td>7.209162e-15</td>\n",
       "      <td>-37.861835</td>\n",
       "      <td>-37.861835</td>\n",
       "      <td>-37.861835</td>\n",
       "      <td>-37.861835</td>\n",
       "      <td>-37.861835</td>\n",
       "    </tr>\n",
       "    <tr>\n",
       "      <th>8</th>\n",
       "      <td>36.0</td>\n",
       "      <td>-37.821633</td>\n",
       "      <td>4.974437e-02</td>\n",
       "      <td>-38.110916</td>\n",
       "      <td>-37.815834</td>\n",
       "      <td>-37.815834</td>\n",
       "      <td>-37.807202</td>\n",
       "      <td>-37.807202</td>\n",
       "    </tr>\n",
       "    <tr>\n",
       "      <th>9</th>\n",
       "      <td>29.0</td>\n",
       "      <td>-38.110916</td>\n",
       "      <td>0.000000e+00</td>\n",
       "      <td>-38.110916</td>\n",
       "      <td>-38.110916</td>\n",
       "      <td>-38.110916</td>\n",
       "      <td>-38.110916</td>\n",
       "      <td>-38.110916</td>\n",
       "    </tr>\n",
       "  </tbody>\n",
       "</table>\n",
       "</div>"
      ],
      "text/plain": [
       "               count       mean           std        min        25%  \\\n",
       "Origin Region                                                         \n",
       "1               36.0 -37.811581  7.347641e-03 -37.824604 -37.818588   \n",
       "2               30.0 -37.816519  3.962001e-03 -37.824092 -37.820667   \n",
       "3               31.0 -37.818142  4.779267e-03 -37.826337 -37.822148   \n",
       "4               35.0 -37.805601  5.568260e-03 -37.816794 -37.809602   \n",
       "5               35.0 -37.805060  4.257315e-03 -37.815834 -37.806559   \n",
       "6               33.0 -37.786662  8.082900e-03 -37.813267 -37.790797   \n",
       "7               35.0 -37.861835  7.209162e-15 -37.861835 -37.861835   \n",
       "8               36.0 -37.821633  4.974437e-02 -38.110916 -37.815834   \n",
       "9               29.0 -38.110916  0.000000e+00 -38.110916 -38.110916   \n",
       "\n",
       "                     50%        75%        max  \n",
       "Origin Region                                   \n",
       "1             -37.811555 -37.805921 -37.799705  \n",
       "2             -37.815296 -37.814380 -37.809891  \n",
       "3             -37.818306 -37.814682 -37.810219  \n",
       "4             -37.803778 -37.800773 -37.798712  \n",
       "5             -37.804487 -37.802387 -37.798898  \n",
       "6             -37.787442 -37.787433 -37.773803  \n",
       "7             -37.861835 -37.861835 -37.861835  \n",
       "8             -37.815834 -37.807202 -37.807202  \n",
       "9             -38.110916 -38.110916 -38.110916  "
      ]
     },
     "metadata": {},
     "output_type": "display_data"
    },
    {
     "data": {
      "text/html": [
       "<div>\n",
       "<style scoped>\n",
       "    .dataframe tbody tr th:only-of-type {\n",
       "        vertical-align: middle;\n",
       "    }\n",
       "\n",
       "    .dataframe tbody tr th {\n",
       "        vertical-align: top;\n",
       "    }\n",
       "\n",
       "    .dataframe thead th {\n",
       "        text-align: right;\n",
       "    }\n",
       "</style>\n",
       "<table border=\"1\" class=\"dataframe\">\n",
       "  <thead>\n",
       "    <tr style=\"text-align: right;\">\n",
       "      <th></th>\n",
       "      <th>count</th>\n",
       "      <th>mean</th>\n",
       "      <th>std</th>\n",
       "      <th>min</th>\n",
       "      <th>25%</th>\n",
       "      <th>50%</th>\n",
       "      <th>75%</th>\n",
       "      <th>max</th>\n",
       "    </tr>\n",
       "    <tr>\n",
       "      <th>Origin Region</th>\n",
       "      <th></th>\n",
       "      <th></th>\n",
       "      <th></th>\n",
       "      <th></th>\n",
       "      <th></th>\n",
       "      <th></th>\n",
       "      <th></th>\n",
       "      <th></th>\n",
       "    </tr>\n",
       "  </thead>\n",
       "  <tbody>\n",
       "    <tr>\n",
       "      <th>1</th>\n",
       "      <td>36.0</td>\n",
       "      <td>144.956624</td>\n",
       "      <td>1.015566e-02</td>\n",
       "      <td>144.937243</td>\n",
       "      <td>144.948413</td>\n",
       "      <td>144.958121</td>\n",
       "      <td>144.963957</td>\n",
       "      <td>144.976080</td>\n",
       "    </tr>\n",
       "    <tr>\n",
       "      <th>2</th>\n",
       "      <td>30.0</td>\n",
       "      <td>144.937317</td>\n",
       "      <td>7.131384e-03</td>\n",
       "      <td>144.922511</td>\n",
       "      <td>144.933766</td>\n",
       "      <td>144.936553</td>\n",
       "      <td>144.942813</td>\n",
       "      <td>144.951870</td>\n",
       "    </tr>\n",
       "    <tr>\n",
       "      <th>3</th>\n",
       "      <td>31.0</td>\n",
       "      <td>144.984033</td>\n",
       "      <td>1.085416e-02</td>\n",
       "      <td>144.967193</td>\n",
       "      <td>144.975839</td>\n",
       "      <td>144.982683</td>\n",
       "      <td>144.991486</td>\n",
       "      <td>145.004830</td>\n",
       "    </tr>\n",
       "    <tr>\n",
       "      <th>4</th>\n",
       "      <td>35.0</td>\n",
       "      <td>145.000351</td>\n",
       "      <td>1.301926e-02</td>\n",
       "      <td>144.938597</td>\n",
       "      <td>144.996038</td>\n",
       "      <td>145.003436</td>\n",
       "      <td>145.007454</td>\n",
       "      <td>145.014513</td>\n",
       "    </tr>\n",
       "    <tr>\n",
       "      <th>5</th>\n",
       "      <td>35.0</td>\n",
       "      <td>144.934587</td>\n",
       "      <td>2.028453e-02</td>\n",
       "      <td>144.917550</td>\n",
       "      <td>144.927886</td>\n",
       "      <td>144.932927</td>\n",
       "      <td>144.936629</td>\n",
       "      <td>145.046450</td>\n",
       "    </tr>\n",
       "    <tr>\n",
       "      <th>6</th>\n",
       "      <td>33.0</td>\n",
       "      <td>144.981807</td>\n",
       "      <td>9.009513e-03</td>\n",
       "      <td>144.933444</td>\n",
       "      <td>144.980409</td>\n",
       "      <td>144.983689</td>\n",
       "      <td>144.985793</td>\n",
       "      <td>144.985865</td>\n",
       "    </tr>\n",
       "    <tr>\n",
       "      <th>7</th>\n",
       "      <td>35.0</td>\n",
       "      <td>144.905716</td>\n",
       "      <td>1.153466e-13</td>\n",
       "      <td>144.905716</td>\n",
       "      <td>144.905716</td>\n",
       "      <td>144.905716</td>\n",
       "      <td>144.905716</td>\n",
       "      <td>144.905716</td>\n",
       "    </tr>\n",
       "    <tr>\n",
       "      <th>8</th>\n",
       "      <td>36.0</td>\n",
       "      <td>145.030050</td>\n",
       "      <td>6.505478e-02</td>\n",
       "      <td>144.654173</td>\n",
       "      <td>145.026637</td>\n",
       "      <td>145.046450</td>\n",
       "      <td>145.046450</td>\n",
       "      <td>145.046450</td>\n",
       "    </tr>\n",
       "    <tr>\n",
       "      <th>9</th>\n",
       "      <td>29.0</td>\n",
       "      <td>144.654173</td>\n",
       "      <td>5.784958e-14</td>\n",
       "      <td>144.654173</td>\n",
       "      <td>144.654173</td>\n",
       "      <td>144.654173</td>\n",
       "      <td>144.654173</td>\n",
       "      <td>144.654173</td>\n",
       "    </tr>\n",
       "  </tbody>\n",
       "</table>\n",
       "</div>"
      ],
      "text/plain": [
       "               count        mean           std         min         25%  \\\n",
       "Origin Region                                                            \n",
       "1               36.0  144.956624  1.015566e-02  144.937243  144.948413   \n",
       "2               30.0  144.937317  7.131384e-03  144.922511  144.933766   \n",
       "3               31.0  144.984033  1.085416e-02  144.967193  144.975839   \n",
       "4               35.0  145.000351  1.301926e-02  144.938597  144.996038   \n",
       "5               35.0  144.934587  2.028453e-02  144.917550  144.927886   \n",
       "6               33.0  144.981807  9.009513e-03  144.933444  144.980409   \n",
       "7               35.0  144.905716  1.153466e-13  144.905716  144.905716   \n",
       "8               36.0  145.030050  6.505478e-02  144.654173  145.026637   \n",
       "9               29.0  144.654173  5.784958e-14  144.654173  144.654173   \n",
       "\n",
       "                      50%         75%         max  \n",
       "Origin Region                                      \n",
       "1              144.958121  144.963957  144.976080  \n",
       "2              144.936553  144.942813  144.951870  \n",
       "3              144.982683  144.991486  145.004830  \n",
       "4              145.003436  145.007454  145.014513  \n",
       "5              144.932927  144.936629  145.046450  \n",
       "6              144.983689  144.985793  144.985865  \n",
       "7              144.905716  144.905716  144.905716  \n",
       "8              145.046450  145.046450  145.046450  \n",
       "9              144.654173  144.654173  144.654173  "
      ]
     },
     "metadata": {},
     "output_type": "display_data"
    }
   ],
   "source": [
    "# Creating a new .groupby and .describe dataframe for origin\n",
    "o_region = dd.groupby('Origin Region').describe()\n",
    "\n",
    "display(o_region['Origin Latitude'])\n",
    "display(o_region['Origin Longitude'])"
   ]
  },
  {
   "cell_type": "code",
   "execution_count": 18,
   "metadata": {},
   "outputs": [
    {
     "data": {
      "text/html": [
       "<div>\n",
       "<style scoped>\n",
       "    .dataframe tbody tr th:only-of-type {\n",
       "        vertical-align: middle;\n",
       "    }\n",
       "\n",
       "    .dataframe tbody tr th {\n",
       "        vertical-align: top;\n",
       "    }\n",
       "\n",
       "    .dataframe thead th {\n",
       "        text-align: right;\n",
       "    }\n",
       "</style>\n",
       "<table border=\"1\" class=\"dataframe\">\n",
       "  <thead>\n",
       "    <tr style=\"text-align: right;\">\n",
       "      <th></th>\n",
       "      <th>count</th>\n",
       "      <th>mean</th>\n",
       "      <th>std</th>\n",
       "      <th>min</th>\n",
       "      <th>25%</th>\n",
       "      <th>50%</th>\n",
       "      <th>75%</th>\n",
       "      <th>max</th>\n",
       "    </tr>\n",
       "    <tr>\n",
       "      <th>Destination Region</th>\n",
       "      <th></th>\n",
       "      <th></th>\n",
       "      <th></th>\n",
       "      <th></th>\n",
       "      <th></th>\n",
       "      <th></th>\n",
       "      <th></th>\n",
       "      <th></th>\n",
       "    </tr>\n",
       "  </thead>\n",
       "  <tbody>\n",
       "    <tr>\n",
       "      <th>1</th>\n",
       "      <td>34.0</td>\n",
       "      <td>-37.813277</td>\n",
       "      <td>0.010666</td>\n",
       "      <td>-37.861835</td>\n",
       "      <td>-37.817081</td>\n",
       "      <td>-37.813196</td>\n",
       "      <td>-37.806565</td>\n",
       "      <td>-37.798903</td>\n",
       "    </tr>\n",
       "    <tr>\n",
       "      <th>2</th>\n",
       "      <td>25.0</td>\n",
       "      <td>-37.816069</td>\n",
       "      <td>0.004115</td>\n",
       "      <td>-37.825518</td>\n",
       "      <td>-37.818065</td>\n",
       "      <td>-37.814819</td>\n",
       "      <td>-37.813671</td>\n",
       "      <td>-37.808815</td>\n",
       "    </tr>\n",
       "    <tr>\n",
       "      <th>3</th>\n",
       "      <td>35.0</td>\n",
       "      <td>-37.818673</td>\n",
       "      <td>0.005172</td>\n",
       "      <td>-37.827676</td>\n",
       "      <td>-37.822892</td>\n",
       "      <td>-37.819726</td>\n",
       "      <td>-37.814905</td>\n",
       "      <td>-37.809707</td>\n",
       "    </tr>\n",
       "    <tr>\n",
       "      <th>4</th>\n",
       "      <td>24.0</td>\n",
       "      <td>-37.807182</td>\n",
       "      <td>0.005857</td>\n",
       "      <td>-37.816748</td>\n",
       "      <td>-37.811824</td>\n",
       "      <td>-37.808224</td>\n",
       "      <td>-37.801556</td>\n",
       "      <td>-37.798740</td>\n",
       "    </tr>\n",
       "    <tr>\n",
       "      <th>5</th>\n",
       "      <td>42.0</td>\n",
       "      <td>-37.805815</td>\n",
       "      <td>0.004827</td>\n",
       "      <td>-37.818765</td>\n",
       "      <td>-37.809113</td>\n",
       "      <td>-37.805279</td>\n",
       "      <td>-37.801898</td>\n",
       "      <td>-37.798509</td>\n",
       "    </tr>\n",
       "    <tr>\n",
       "      <th>6</th>\n",
       "      <td>43.0</td>\n",
       "      <td>-37.785279</td>\n",
       "      <td>0.008051</td>\n",
       "      <td>-37.810716</td>\n",
       "      <td>-37.790797</td>\n",
       "      <td>-37.787442</td>\n",
       "      <td>-37.773845</td>\n",
       "      <td>-37.773803</td>\n",
       "    </tr>\n",
       "    <tr>\n",
       "      <th>7</th>\n",
       "      <td>32.0</td>\n",
       "      <td>-37.857860</td>\n",
       "      <td>0.015880</td>\n",
       "      <td>-37.861835</td>\n",
       "      <td>-37.861835</td>\n",
       "      <td>-37.861835</td>\n",
       "      <td>-37.861835</td>\n",
       "      <td>-37.787433</td>\n",
       "    </tr>\n",
       "    <tr>\n",
       "      <th>8</th>\n",
       "      <td>36.0</td>\n",
       "      <td>-37.812717</td>\n",
       "      <td>0.004205</td>\n",
       "      <td>-37.815834</td>\n",
       "      <td>-37.815834</td>\n",
       "      <td>-37.815834</td>\n",
       "      <td>-37.807202</td>\n",
       "      <td>-37.807202</td>\n",
       "    </tr>\n",
       "    <tr>\n",
       "      <th>9</th>\n",
       "      <td>29.0</td>\n",
       "      <td>-38.110916</td>\n",
       "      <td>0.000000</td>\n",
       "      <td>-38.110916</td>\n",
       "      <td>-38.110916</td>\n",
       "      <td>-38.110916</td>\n",
       "      <td>-38.110916</td>\n",
       "      <td>-38.110916</td>\n",
       "    </tr>\n",
       "  </tbody>\n",
       "</table>\n",
       "</div>"
      ],
      "text/plain": [
       "                    count       mean       std        min        25%  \\\n",
       "Destination Region                                                     \n",
       "1                    34.0 -37.813277  0.010666 -37.861835 -37.817081   \n",
       "2                    25.0 -37.816069  0.004115 -37.825518 -37.818065   \n",
       "3                    35.0 -37.818673  0.005172 -37.827676 -37.822892   \n",
       "4                    24.0 -37.807182  0.005857 -37.816748 -37.811824   \n",
       "5                    42.0 -37.805815  0.004827 -37.818765 -37.809113   \n",
       "6                    43.0 -37.785279  0.008051 -37.810716 -37.790797   \n",
       "7                    32.0 -37.857860  0.015880 -37.861835 -37.861835   \n",
       "8                    36.0 -37.812717  0.004205 -37.815834 -37.815834   \n",
       "9                    29.0 -38.110916  0.000000 -38.110916 -38.110916   \n",
       "\n",
       "                          50%        75%        max  \n",
       "Destination Region                                   \n",
       "1                  -37.813196 -37.806565 -37.798903  \n",
       "2                  -37.814819 -37.813671 -37.808815  \n",
       "3                  -37.819726 -37.814905 -37.809707  \n",
       "4                  -37.808224 -37.801556 -37.798740  \n",
       "5                  -37.805279 -37.801898 -37.798509  \n",
       "6                  -37.787442 -37.773845 -37.773803  \n",
       "7                  -37.861835 -37.861835 -37.787433  \n",
       "8                  -37.815834 -37.807202 -37.807202  \n",
       "9                  -38.110916 -38.110916 -38.110916  "
      ]
     },
     "metadata": {},
     "output_type": "display_data"
    },
    {
     "data": {
      "text/html": [
       "<div>\n",
       "<style scoped>\n",
       "    .dataframe tbody tr th:only-of-type {\n",
       "        vertical-align: middle;\n",
       "    }\n",
       "\n",
       "    .dataframe tbody tr th {\n",
       "        vertical-align: top;\n",
       "    }\n",
       "\n",
       "    .dataframe thead th {\n",
       "        text-align: right;\n",
       "    }\n",
       "</style>\n",
       "<table border=\"1\" class=\"dataframe\">\n",
       "  <thead>\n",
       "    <tr style=\"text-align: right;\">\n",
       "      <th></th>\n",
       "      <th>count</th>\n",
       "      <th>mean</th>\n",
       "      <th>std</th>\n",
       "      <th>min</th>\n",
       "      <th>25%</th>\n",
       "      <th>50%</th>\n",
       "      <th>75%</th>\n",
       "      <th>max</th>\n",
       "    </tr>\n",
       "    <tr>\n",
       "      <th>Destination Region</th>\n",
       "      <th></th>\n",
       "      <th></th>\n",
       "      <th></th>\n",
       "      <th></th>\n",
       "      <th></th>\n",
       "      <th></th>\n",
       "      <th></th>\n",
       "      <th></th>\n",
       "    </tr>\n",
       "  </thead>\n",
       "  <tbody>\n",
       "    <tr>\n",
       "      <th>1</th>\n",
       "      <td>34.0</td>\n",
       "      <td>144.957839</td>\n",
       "      <td>1.450024e-02</td>\n",
       "      <td>144.905716</td>\n",
       "      <td>144.950182</td>\n",
       "      <td>144.959585</td>\n",
       "      <td>144.967346</td>\n",
       "      <td>144.978401</td>\n",
       "    </tr>\n",
       "    <tr>\n",
       "      <th>2</th>\n",
       "      <td>25.0</td>\n",
       "      <td>144.940773</td>\n",
       "      <td>7.133916e-03</td>\n",
       "      <td>144.925858</td>\n",
       "      <td>144.936709</td>\n",
       "      <td>144.939603</td>\n",
       "      <td>144.947444</td>\n",
       "      <td>144.951608</td>\n",
       "    </tr>\n",
       "    <tr>\n",
       "      <th>3</th>\n",
       "      <td>35.0</td>\n",
       "      <td>144.984769</td>\n",
       "      <td>1.132723e-02</td>\n",
       "      <td>144.967809</td>\n",
       "      <td>144.975794</td>\n",
       "      <td>144.984207</td>\n",
       "      <td>144.994157</td>\n",
       "      <td>145.009817</td>\n",
       "    </tr>\n",
       "    <tr>\n",
       "      <th>4</th>\n",
       "      <td>24.0</td>\n",
       "      <td>145.003279</td>\n",
       "      <td>7.652294e-03</td>\n",
       "      <td>144.989296</td>\n",
       "      <td>144.997916</td>\n",
       "      <td>145.003008</td>\n",
       "      <td>145.010245</td>\n",
       "      <td>145.015699</td>\n",
       "    </tr>\n",
       "    <tr>\n",
       "      <th>5</th>\n",
       "      <td>42.0</td>\n",
       "      <td>144.930953</td>\n",
       "      <td>5.804968e-03</td>\n",
       "      <td>144.916487</td>\n",
       "      <td>144.928241</td>\n",
       "      <td>144.932025</td>\n",
       "      <td>144.935338</td>\n",
       "      <td>144.939860</td>\n",
       "    </tr>\n",
       "    <tr>\n",
       "      <th>6</th>\n",
       "      <td>43.0</td>\n",
       "      <td>144.981822</td>\n",
       "      <td>8.995823e-03</td>\n",
       "      <td>144.926145</td>\n",
       "      <td>144.980409</td>\n",
       "      <td>144.983689</td>\n",
       "      <td>144.985793</td>\n",
       "      <td>144.985865</td>\n",
       "    </tr>\n",
       "    <tr>\n",
       "      <th>7</th>\n",
       "      <td>32.0</td>\n",
       "      <td>144.908794</td>\n",
       "      <td>1.372397e-02</td>\n",
       "      <td>144.905716</td>\n",
       "      <td>144.905716</td>\n",
       "      <td>144.905716</td>\n",
       "      <td>144.905716</td>\n",
       "      <td>144.980377</td>\n",
       "    </tr>\n",
       "    <tr>\n",
       "      <th>8</th>\n",
       "      <td>36.0</td>\n",
       "      <td>145.039295</td>\n",
       "      <td>9.651482e-03</td>\n",
       "      <td>145.026637</td>\n",
       "      <td>145.026637</td>\n",
       "      <td>145.046450</td>\n",
       "      <td>145.046450</td>\n",
       "      <td>145.046450</td>\n",
       "    </tr>\n",
       "    <tr>\n",
       "      <th>9</th>\n",
       "      <td>29.0</td>\n",
       "      <td>144.654173</td>\n",
       "      <td>5.784958e-14</td>\n",
       "      <td>144.654173</td>\n",
       "      <td>144.654173</td>\n",
       "      <td>144.654173</td>\n",
       "      <td>144.654173</td>\n",
       "      <td>144.654173</td>\n",
       "    </tr>\n",
       "  </tbody>\n",
       "</table>\n",
       "</div>"
      ],
      "text/plain": [
       "                    count        mean           std         min         25%  \\\n",
       "Destination Region                                                            \n",
       "1                    34.0  144.957839  1.450024e-02  144.905716  144.950182   \n",
       "2                    25.0  144.940773  7.133916e-03  144.925858  144.936709   \n",
       "3                    35.0  144.984769  1.132723e-02  144.967809  144.975794   \n",
       "4                    24.0  145.003279  7.652294e-03  144.989296  144.997916   \n",
       "5                    42.0  144.930953  5.804968e-03  144.916487  144.928241   \n",
       "6                    43.0  144.981822  8.995823e-03  144.926145  144.980409   \n",
       "7                    32.0  144.908794  1.372397e-02  144.905716  144.905716   \n",
       "8                    36.0  145.039295  9.651482e-03  145.026637  145.026637   \n",
       "9                    29.0  144.654173  5.784958e-14  144.654173  144.654173   \n",
       "\n",
       "                           50%         75%         max  \n",
       "Destination Region                                      \n",
       "1                   144.959585  144.967346  144.978401  \n",
       "2                   144.939603  144.947444  144.951608  \n",
       "3                   144.984207  144.994157  145.009817  \n",
       "4                   145.003008  145.010245  145.015699  \n",
       "5                   144.932025  144.935338  144.939860  \n",
       "6                   144.983689  144.985793  144.985865  \n",
       "7                   144.905716  144.905716  144.980377  \n",
       "8                   145.046450  145.046450  145.046450  \n",
       "9                   144.654173  144.654173  144.654173  "
      ]
     },
     "metadata": {},
     "output_type": "display_data"
    }
   ],
   "source": [
    "# Creating a new .groupby and .describe dataframe for destination\n",
    "d_region = dd.groupby('Destination Region').describe()\n",
    "\n",
    "display(d_region['Destination Latitude'])\n",
    "display(d_region['Destination Longitude'])"
   ]
  },
  {
   "cell_type": "markdown",
   "metadata": {},
   "source": [
    "Interestingly, region 9 has exactly the same longitude and latitude values for all data entries. I think however, that this is because the location is in a different vicinity to the other regions, which would make sense as this is Uber data, and thus the passengers could be travelling to an outside area.\n",
    "\n",
    "I also decided to create a scatter plot of the latitude and longitudes using a colourmap to map the regions."
   ]
  },
  {
   "cell_type": "code",
   "execution_count": 19,
   "metadata": {},
   "outputs": [
    {
     "data": {
      "text/plain": [
       "<matplotlib.axes._subplots.AxesSubplot at 0x1a22917b70>"
      ]
     },
     "execution_count": 19,
     "metadata": {},
     "output_type": "execute_result"
    },
    {
     "data": {
      "image/png": "[encoded data removed]",
      "text/plain": [
       "<Figure size 720x720 with 2 Axes>"
      ]
     },
     "metadata": {
      "needs_background": "light"
     },
     "output_type": "display_data"
    },
    {
     "data": {
      "image/png": "[encoded data removed]",
      "text/plain": [
       "<Figure size 720x720 with 2 Axes>"
      ]
     },
     "metadata": {
      "needs_background": "light"
     },
     "output_type": "display_data"
    }
   ],
   "source": [
    "# Origin plot\n",
    "dd.plot.scatter(x = 'Origin Longitude', y = 'Origin Latitude', figsize=(10,10),\n",
    "                   c = dd['Origin Region'].values, colormap = 'plasma', title = \"Origin\")\n",
    "\n",
    "# Destination plot\n",
    "dd.plot.scatter(x = 'Destination Longitude', y = 'Destination Latitude', figsize=(10,10),\n",
    "                   c = dd['Destination Region'].values, colormap = 'plasma', title = \"Destination\")"
   ]
  },
  {
   "cell_type": "markdown",
   "metadata": {},
   "source": [
    "Looking at these plots, it seems that the regions are set out in a way that mirrors the natural spread of a city - the inner region is 1, and from there, as the latitude/longitude values spread outwards, so do the regions. So, the regions go from 1 (inner) to 9 (outer).\n",
    "\n",
    "However, although it is quite hard to see, it looks as though some of the colours are overlapping one another, which would suggest that some of the regions are incorrect.\n",
    "\n",
    "To fix this, I use the k-nearest neighbour algorithm from sklearn"
   ]
  },
  {
   "cell_type": "code",
   "execution_count": 20,
   "metadata": {},
   "outputs": [
    {
     "name": "stdout",
     "output_type": "stream",
     "text": [
      "Number of incorrect origin regions:  19\n"
     ]
    }
   ],
   "source": [
    "# Define variables\n",
    "lat_lon = dd[[\"Origin Latitude\",\"Origin Longitude\"]]\n",
    "region = dd[\"Origin Region\"]\n",
    "region.values.reshape(-1,1)\n",
    "\n",
    "# Initiate classifier\n",
    "knn_cl = KNeighborsClassifier()\n",
    "knn_cl.fit(lat_lon, region)\n",
    "\n",
    "# Predict region\n",
    "dd['Origin Predicted'] = knn_cl.predict(dd[[\"Origin Latitude\",\"Origin Longitude\"]])\n",
    "count=0\n",
    "\n",
    "# Switch incorrect values for predicted value\n",
    "for i in dd.index:\n",
    "    if dd[\"Origin Predicted\"][i] != dd['Origin Region'][i]:\n",
    "        dd['Origin Region'][i] = dd[\"Origin Predicted\"][i]\n",
    "        count+=1              \n",
    "print('Number of incorrect origin regions: ', count)"
   ]
  },
  {
   "cell_type": "markdown",
   "metadata": {},
   "source": [
    "Now, the destination regions with the same method."
   ]
  },
  {
   "cell_type": "code",
   "execution_count": 21,
   "metadata": {},
   "outputs": [
    {
     "name": "stdout",
     "output_type": "stream",
     "text": [
      "Number of incorrect destination regions:  24\n"
     ]
    }
   ],
   "source": [
    "# Define variables\n",
    "lat_lon=dd[[\"Destination Latitude\",\"Destination Longitude\"]]\n",
    "region=dd[\"Destination Region\"]\n",
    "region.values.reshape(-1,1)\n",
    "\n",
    "# Initiate classifier\n",
    "knn_c1_d = KNeighborsClassifier()\n",
    "knn_c1_d.fit(lat_lon,region)\n",
    "\n",
    "# Prediction\n",
    "dd['Destination Predicted'] = knn_c1_d.predict(dd[[\"Destination Latitude\", \"Destination Longitude\"]])\n",
    "count=0\n",
    "\n",
    "# Switch incorrect values for predicted value\n",
    "for i in dd.index:\n",
    "    if dd[\"Destination Predicted\"][i] != dd['Destination Region'][i]:\n",
    "        dd['Destination Region'][i]=dd[\"Destination Predicted\"][i]\n",
    "        count+=1              \n",
    "print('Number of incorrect destination regions: ', count)"
   ]
  },
  {
   "cell_type": "markdown",
   "metadata": {},
   "source": [
    "Finally, I'll plot the regions again to check that the classifier worked. Once again, although it's hard to see, the regions have become more concretely defined on the plot, so I would say that the KNN classifier was a success."
   ]
  },
  {
   "cell_type": "code",
   "execution_count": 22,
   "metadata": {},
   "outputs": [
    {
     "data": {
      "text/plain": [
       "<matplotlib.axes._subplots.AxesSubplot at 0x1a225acda0>"
      ]
     },
     "execution_count": 22,
     "metadata": {},
     "output_type": "execute_result"
    },
    {
     "data": {
      "image/png": "[encoded data removed]",
      "text/plain": [
       "<Figure size 720x720 with 2 Axes>"
      ]
     },
     "metadata": {
      "needs_background": "light"
     },
     "output_type": "display_data"
    },
    {
     "data": {
      "image/png": "[encoded data removed]",
      "text/plain": [
       "<Figure size 720x720 with 2 Axes>"
      ]
     },
     "metadata": {
      "needs_background": "light"
     },
     "output_type": "display_data"
    }
   ],
   "source": [
    "# Origin plot\n",
    "dd.plot.scatter(x = 'Origin Longitude', y = 'Origin Latitude', figsize=(10,10),\n",
    "                   c = dd['Origin Region'].values, colormap = 'plasma', title = \"Origin\")\n",
    "\n",
    "# Destination plot\n",
    "dd.plot.scatter(x = 'Destination Longitude', y = 'Destination Latitude', figsize=(10,10),\n",
    "                   c = dd['Destination Region'].values, colormap = 'plasma', title = \"Destination\")"
   ]
  },
  {
   "cell_type": "markdown",
   "metadata": {},
   "source": [
    "Finally, we can clean up the dataframe by removing the temporary columns."
   ]
  },
  {
   "cell_type": "code",
   "execution_count": 23,
   "metadata": {},
   "outputs": [],
   "source": [
    "# Drop temporary columns\n",
    "dd.drop(dd[['Origin Predicted', 'Destination Predicted']], axis=1, inplace = True)"
   ]
  },
  {
   "cell_type": "markdown",
   "metadata": {},
   "source": [
    "### Journey Distance\n",
    "\n",
    "First, I read in the edges and nodes file and had a peek at the head."
   ]
  },
  {
   "cell_type": "code",
   "execution_count": 24,
   "metadata": {},
   "outputs": [
    {
     "data": {
      "text/html": [
       "<div>\n",
       "<style scoped>\n",
       "    .dataframe tbody tr th:only-of-type {\n",
       "        vertical-align: middle;\n",
       "    }\n",
       "\n",
       "    .dataframe tbody tr th {\n",
       "        vertical-align: top;\n",
       "    }\n",
       "\n",
       "    .dataframe thead th {\n",
       "        text-align: right;\n",
       "    }\n",
       "</style>\n",
       "<table border=\"1\" class=\"dataframe\">\n",
       "  <thead>\n",
       "    <tr style=\"text-align: right;\">\n",
       "      <th></th>\n",
       "      <th>Unnamed: 0</th>\n",
       "      <th>u</th>\n",
       "      <th>v</th>\n",
       "      <th>distance(m)</th>\n",
       "      <th>street type</th>\n",
       "      <th>speed(km/h)</th>\n",
       "    </tr>\n",
       "  </thead>\n",
       "  <tbody>\n",
       "    <tr>\n",
       "      <th>0</th>\n",
       "      <td>0</td>\n",
       "      <td>711327755</td>\n",
       "      <td>711332946</td>\n",
       "      <td>58.0</td>\n",
       "      <td>1</td>\n",
       "      <td>15.0</td>\n",
       "    </tr>\n",
       "    <tr>\n",
       "      <th>1</th>\n",
       "      <td>2</td>\n",
       "      <td>711327755</td>\n",
       "      <td>55725841</td>\n",
       "      <td>15.0</td>\n",
       "      <td>2</td>\n",
       "      <td>20.0</td>\n",
       "    </tr>\n",
       "    <tr>\n",
       "      <th>2</th>\n",
       "      <td>3</td>\n",
       "      <td>711327755</td>\n",
       "      <td>711327760</td>\n",
       "      <td>165.0</td>\n",
       "      <td>1</td>\n",
       "      <td>15.0</td>\n",
       "    </tr>\n",
       "    <tr>\n",
       "      <th>3</th>\n",
       "      <td>4</td>\n",
       "      <td>711327756</td>\n",
       "      <td>703557073</td>\n",
       "      <td>4.0</td>\n",
       "      <td>0</td>\n",
       "      <td>10.0</td>\n",
       "    </tr>\n",
       "    <tr>\n",
       "      <th>4</th>\n",
       "      <td>5</td>\n",
       "      <td>711327756</td>\n",
       "      <td>711332946</td>\n",
       "      <td>8.0</td>\n",
       "      <td>1</td>\n",
       "      <td>15.0</td>\n",
       "    </tr>\n",
       "  </tbody>\n",
       "</table>\n",
       "</div>"
      ],
      "text/plain": [
       "   Unnamed: 0          u          v  distance(m)  street type  speed(km/h)\n",
       "0           0  711327755  711332946         58.0            1         15.0\n",
       "1           2  711327755   55725841         15.0            2         20.0\n",
       "2           3  711327755  711327760        165.0            1         15.0\n",
       "3           4  711327756  703557073          4.0            0         10.0\n",
       "4           5  711327756  711332946          8.0            1         15.0"
      ]
     },
     "metadata": {},
     "output_type": "display_data"
    },
    {
     "data": {
      "text/html": [
       "<div>\n",
       "<style scoped>\n",
       "    .dataframe tbody tr th:only-of-type {\n",
       "        vertical-align: middle;\n",
       "    }\n",
       "\n",
       "    .dataframe tbody tr th {\n",
       "        vertical-align: top;\n",
       "    }\n",
       "\n",
       "    .dataframe thead th {\n",
       "        text-align: right;\n",
       "    }\n",
       "</style>\n",
       "<table border=\"1\" class=\"dataframe\">\n",
       "  <thead>\n",
       "    <tr style=\"text-align: right;\">\n",
       "      <th></th>\n",
       "      <th>Unnamed: 0</th>\n",
       "      <th>lat</th>\n",
       "      <th>lon</th>\n",
       "    </tr>\n",
       "  </thead>\n",
       "  <tbody>\n",
       "    <tr>\n",
       "      <th>0</th>\n",
       "      <td>711327755</td>\n",
       "      <td>-37.807675</td>\n",
       "      <td>144.955873</td>\n",
       "    </tr>\n",
       "    <tr>\n",
       "      <th>1</th>\n",
       "      <td>711327756</td>\n",
       "      <td>-37.807094</td>\n",
       "      <td>144.955978</td>\n",
       "    </tr>\n",
       "    <tr>\n",
       "      <th>2</th>\n",
       "      <td>711327759</td>\n",
       "      <td>-37.807301</td>\n",
       "      <td>144.957817</td>\n",
       "    </tr>\n",
       "    <tr>\n",
       "      <th>3</th>\n",
       "      <td>711327760</td>\n",
       "      <td>-37.807885</td>\n",
       "      <td>144.957719</td>\n",
       "    </tr>\n",
       "    <tr>\n",
       "      <th>4</th>\n",
       "      <td>777781264</td>\n",
       "      <td>-37.805221</td>\n",
       "      <td>144.952173</td>\n",
       "    </tr>\n",
       "  </tbody>\n",
       "</table>\n",
       "</div>"
      ],
      "text/plain": [
       "   Unnamed: 0        lat         lon\n",
       "0   711327755 -37.807675  144.955873\n",
       "1   711327756 -37.807094  144.955978\n",
       "2   711327759 -37.807301  144.957817\n",
       "3   711327760 -37.807885  144.957719\n",
       "4   777781264 -37.805221  144.952173"
      ]
     },
     "metadata": {},
     "output_type": "display_data"
    }
   ],
   "source": [
    "# Reading in the files\n",
    "edges = pd.read_csv('edges.csv')\n",
    "display(edges.head())\n",
    "\n",
    "nodes = pd.read_csv('nodes.csv')\n",
    "display(nodes.head())"
   ]
  },
  {
   "cell_type": "markdown",
   "metadata": {},
   "source": [
    "In the next cell, I did three things:\n",
    "\n",
    "- I renamed the nodes columns to match that of the dirty data file, so that merging the two dataframes would be easier.\n",
    "\n",
    "- I also found that I was having trouble with various longitude/latitude points not being recognised as a match with the node file. I solved this by rounding the amount of decimal places to 10 using .round().\n",
    "\n",
    "- Finally I did a left outer join on the files to add the origin node to the dirty data dataframe"
   ]
  },
  {
   "cell_type": "code",
   "execution_count": 25,
   "metadata": {},
   "outputs": [],
   "source": [
    "# Renaming columns to match the data file\n",
    "nodes.rename(columns={'lat': 'Origin Latitude'}, inplace=True)\n",
    "nodes.rename(columns={'lon': 'Origin Longitude'}, inplace=True)\n",
    "nodes.rename(columns={'Unnamed: 0': 'Origin Node'}, inplace=True)\n",
    "\n",
    "# Rounding to 10 decimal places\n",
    "nodes['Origin Latitude'] = nodes['Origin Latitude'].round(10)\n",
    "nodes['Origin Longitude'] = nodes['Origin Longitude'].round(10)\n",
    "\n",
    "dd['Origin Latitude'] = dd['Origin Latitude'].round(10)\n",
    "dd['Origin Longitude'] = dd['Origin Longitude'].round(10)\n",
    "\n",
    "# Left outer join on origin latitude and longitude\n",
    "dd = pd.merge(dd, nodes, on=['Origin Latitude', 'Origin Longitude'], how = 'left')"
   ]
  },
  {
   "cell_type": "markdown",
   "metadata": {},
   "source": [
    "I did the same again, but this time with the Desination values, rather than the origin. "
   ]
  },
  {
   "cell_type": "code",
   "execution_count": 26,
   "metadata": {},
   "outputs": [],
   "source": [
    "# Renaming columns to match the data file\n",
    "nodes = pd.read_csv('nodes.csv')\n",
    "nodes.rename(columns={'lat': 'Destination Latitude'}, inplace=True)\n",
    "nodes.rename(columns={'lon': 'Destination Longitude'}, inplace=True)\n",
    "nodes.rename(columns={'Unnamed: 0': 'Destination Node'}, inplace=True)\n",
    "\n",
    "# Rounding to 10 decimal places\n",
    "nodes['Destination Latitude'] = nodes['Destination Latitude'].round(10)\n",
    "nodes['Destination Longitude'] = nodes['Destination Longitude'].round(10)\n",
    "\n",
    "dd['Destination Latitude'] = dd['Destination Latitude'].round(10)\n",
    "dd['Destination Longitude'] = dd['Destination Longitude'].round(10)\n",
    "\n",
    "# Left outer join on destination latitude and longitude\n",
    "dd = pd.merge(dd, nodes, on=['Destination Latitude', 'Destination Longitude'], how = 'left')"
   ]
  },
  {
   "cell_type": "code",
   "execution_count": 27,
   "metadata": {},
   "outputs": [
    {
     "data": {
      "text/html": [
       "<div>\n",
       "<style scoped>\n",
       "    .dataframe tbody tr th:only-of-type {\n",
       "        vertical-align: middle;\n",
       "    }\n",
       "\n",
       "    .dataframe tbody tr th {\n",
       "        vertical-align: top;\n",
       "    }\n",
       "\n",
       "    .dataframe thead th {\n",
       "        text-align: right;\n",
       "    }\n",
       "</style>\n",
       "<table border=\"1\" class=\"dataframe\">\n",
       "  <thead>\n",
       "    <tr style=\"text-align: right;\">\n",
       "      <th></th>\n",
       "      <th>ID</th>\n",
       "      <th>Uber Type</th>\n",
       "      <th>Origin Region</th>\n",
       "      <th>Destination Region</th>\n",
       "      <th>Origin Latitude</th>\n",
       "      <th>Origin Longitude</th>\n",
       "      <th>Destination Latitude</th>\n",
       "      <th>Destination Longitude</th>\n",
       "      <th>Journey Distance(m)</th>\n",
       "      <th>Departure Date</th>\n",
       "      <th>Departure Time</th>\n",
       "      <th>Travel Time(s)</th>\n",
       "      <th>Arrival Time</th>\n",
       "      <th>Fare$</th>\n",
       "      <th>Origin Node</th>\n",
       "      <th>Destination Node</th>\n",
       "    </tr>\n",
       "  </thead>\n",
       "  <tbody>\n",
       "    <tr>\n",
       "      <th>0</th>\n",
       "      <td>ID1958251255</td>\n",
       "      <td>0</td>\n",
       "      <td>9</td>\n",
       "      <td>5</td>\n",
       "      <td>-38.110916</td>\n",
       "      <td>144.654172</td>\n",
       "      <td>-37.804697</td>\n",
       "      <td>144.927112</td>\n",
       "      <td>44082.0</td>\n",
       "      <td>2018-02-24</td>\n",
       "      <td>09:41:28</td>\n",
       "      <td>10530.18</td>\n",
       "      <td>12:36:58</td>\n",
       "      <td>22.32</td>\n",
       "      <td>5002706670</td>\n",
       "      <td>581731655</td>\n",
       "    </tr>\n",
       "    <tr>\n",
       "      <th>1</th>\n",
       "      <td>ID3328320168</td>\n",
       "      <td>1</td>\n",
       "      <td>7</td>\n",
       "      <td>1</td>\n",
       "      <td>-37.861835</td>\n",
       "      <td>144.905716</td>\n",
       "      <td>-37.820491</td>\n",
       "      <td>144.965925</td>\n",
       "      <td>7426.8</td>\n",
       "      <td>2018-04-18</td>\n",
       "      <td>06:26:22</td>\n",
       "      <td>2636.16</td>\n",
       "      <td>7:10:18</td>\n",
       "      <td>13.15</td>\n",
       "      <td>1390575046</td>\n",
       "      <td>664379579</td>\n",
       "    </tr>\n",
       "    <tr>\n",
       "      <th>2</th>\n",
       "      <td>ID1556119881</td>\n",
       "      <td>0</td>\n",
       "      <td>7</td>\n",
       "      <td>3</td>\n",
       "      <td>-37.861835</td>\n",
       "      <td>144.905716</td>\n",
       "      <td>-37.824062</td>\n",
       "      <td>144.984864</td>\n",
       "      <td>8862.0</td>\n",
       "      <td>2018-05-15</td>\n",
       "      <td>04:32:42</td>\n",
       "      <td>2937.12</td>\n",
       "      <td>5:21:39</td>\n",
       "      <td>14.67</td>\n",
       "      <td>1390575046</td>\n",
       "      <td>746924731</td>\n",
       "    </tr>\n",
       "    <tr>\n",
       "      <th>3</th>\n",
       "      <td>ID3909610108</td>\n",
       "      <td>1</td>\n",
       "      <td>3</td>\n",
       "      <td>6</td>\n",
       "      <td>-37.824544</td>\n",
       "      <td>144.982460</td>\n",
       "      <td>-37.790797</td>\n",
       "      <td>144.985865</td>\n",
       "      <td>4120.4</td>\n",
       "      <td>2018-03-09</td>\n",
       "      <td>11:32:01</td>\n",
       "      <td>1186.20</td>\n",
       "      <td>11:51:47</td>\n",
       "      <td>7.98</td>\n",
       "      <td>746921889</td>\n",
       "      <td>4307007286</td>\n",
       "    </tr>\n",
       "    <tr>\n",
       "      <th>4</th>\n",
       "      <td>ID3874426000</td>\n",
       "      <td>1</td>\n",
       "      <td>6</td>\n",
       "      <td>5</td>\n",
       "      <td>-37.773803</td>\n",
       "      <td>144.983647</td>\n",
       "      <td>-37.805092</td>\n",
       "      <td>144.936967</td>\n",
       "      <td>9684.0</td>\n",
       "      <td>2018-07-04</td>\n",
       "      <td>19:56:24</td>\n",
       "      <td>2957.94</td>\n",
       "      <td>20:45:41</td>\n",
       "      <td>20.48</td>\n",
       "      <td>2455254505</td>\n",
       "      <td>3555805915</td>\n",
       "    </tr>\n",
       "  </tbody>\n",
       "</table>\n",
       "</div>"
      ],
      "text/plain": [
       "             ID  Uber Type  Origin Region  Destination Region  \\\n",
       "0  ID1958251255          0              9                   5   \n",
       "1  ID3328320168          1              7                   1   \n",
       "2  ID1556119881          0              7                   3   \n",
       "3  ID3909610108          1              3                   6   \n",
       "4  ID3874426000          1              6                   5   \n",
       "\n",
       "   Origin Latitude  Origin Longitude  Destination Latitude  \\\n",
       "0       -38.110916        144.654172            -37.804697   \n",
       "1       -37.861835        144.905716            -37.820491   \n",
       "2       -37.861835        144.905716            -37.824062   \n",
       "3       -37.824544        144.982460            -37.790797   \n",
       "4       -37.773803        144.983647            -37.805092   \n",
       "\n",
       "   Destination Longitude  Journey Distance(m) Departure Date Departure Time  \\\n",
       "0             144.927112              44082.0     2018-02-24       09:41:28   \n",
       "1             144.965925               7426.8     2018-04-18       06:26:22   \n",
       "2             144.984864               8862.0     2018-05-15       04:32:42   \n",
       "3             144.985865               4120.4     2018-03-09       11:32:01   \n",
       "4             144.936967               9684.0     2018-07-04       19:56:24   \n",
       "\n",
       "   Travel Time(s) Arrival Time  Fare$  Origin Node  Destination Node  \n",
       "0        10530.18     12:36:58  22.32   5002706670         581731655  \n",
       "1         2636.16      7:10:18  13.15   1390575046         664379579  \n",
       "2         2937.12      5:21:39  14.67   1390575046         746924731  \n",
       "3         1186.20     11:51:47   7.98    746921889        4307007286  \n",
       "4         2957.94     20:45:41  20.48   2455254505        3555805915  "
      ]
     },
     "execution_count": 27,
     "metadata": {},
     "output_type": "execute_result"
    }
   ],
   "source": [
    "# Peek at the dataframe to check new columns are fine\n",
    "dd.head()"
   ]
  },
  {
   "cell_type": "markdown",
   "metadata": {},
   "source": [
    "Next, I was able to calculate the journey distance using nx.shortest_path_length with the weight set to distance(m) and the method set to dijkstra.\n",
    "\n",
    "\n",
    "Then, I tested to see if there was any rows that had a different Journey Distance to the calculated value."
   ]
  },
  {
   "cell_type": "code",
   "execution_count": 28,
   "metadata": {},
   "outputs": [
    {
     "data": {
      "text/html": [
       "<div>\n",
       "<style scoped>\n",
       "    .dataframe tbody tr th:only-of-type {\n",
       "        vertical-align: middle;\n",
       "    }\n",
       "\n",
       "    .dataframe tbody tr th {\n",
       "        vertical-align: top;\n",
       "    }\n",
       "\n",
       "    .dataframe thead th {\n",
       "        text-align: right;\n",
       "    }\n",
       "</style>\n",
       "<table border=\"1\" class=\"dataframe\">\n",
       "  <thead>\n",
       "    <tr style=\"text-align: right;\">\n",
       "      <th></th>\n",
       "      <th>ID</th>\n",
       "      <th>Uber Type</th>\n",
       "      <th>Origin Region</th>\n",
       "      <th>Destination Region</th>\n",
       "      <th>Origin Latitude</th>\n",
       "      <th>Origin Longitude</th>\n",
       "      <th>Destination Latitude</th>\n",
       "      <th>Destination Longitude</th>\n",
       "      <th>Journey Distance(m)</th>\n",
       "      <th>Departure Date</th>\n",
       "      <th>Departure Time</th>\n",
       "      <th>Travel Time(s)</th>\n",
       "      <th>Arrival Time</th>\n",
       "      <th>Fare$</th>\n",
       "      <th>Origin Node</th>\n",
       "      <th>Destination Node</th>\n",
       "      <th>Journey Dist Calc</th>\n",
       "      <th>Compare</th>\n",
       "    </tr>\n",
       "  </thead>\n",
       "  <tbody>\n",
       "    <tr>\n",
       "      <th>1</th>\n",
       "      <td>ID3328320168</td>\n",
       "      <td>1</td>\n",
       "      <td>7</td>\n",
       "      <td>1</td>\n",
       "      <td>-37.861835</td>\n",
       "      <td>144.905716</td>\n",
       "      <td>-37.820491</td>\n",
       "      <td>144.965925</td>\n",
       "      <td>7426.8</td>\n",
       "      <td>2018-04-18</td>\n",
       "      <td>06:26:22</td>\n",
       "      <td>2636.16</td>\n",
       "      <td>7:10:18</td>\n",
       "      <td>13.15</td>\n",
       "      <td>1390575046</td>\n",
       "      <td>664379579</td>\n",
       "      <td>7427.0</td>\n",
       "      <td>Different</td>\n",
       "    </tr>\n",
       "    <tr>\n",
       "      <th>3</th>\n",
       "      <td>ID3909610108</td>\n",
       "      <td>1</td>\n",
       "      <td>3</td>\n",
       "      <td>6</td>\n",
       "      <td>-37.824544</td>\n",
       "      <td>144.982460</td>\n",
       "      <td>-37.790797</td>\n",
       "      <td>144.985865</td>\n",
       "      <td>4120.4</td>\n",
       "      <td>2018-03-09</td>\n",
       "      <td>11:32:01</td>\n",
       "      <td>1186.20</td>\n",
       "      <td>11:51:47</td>\n",
       "      <td>7.98</td>\n",
       "      <td>746921889</td>\n",
       "      <td>4307007286</td>\n",
       "      <td>4111.0</td>\n",
       "      <td>Different</td>\n",
       "    </tr>\n",
       "    <tr>\n",
       "      <th>7</th>\n",
       "      <td>ID3572262099</td>\n",
       "      <td>1</td>\n",
       "      <td>3</td>\n",
       "      <td>8</td>\n",
       "      <td>-37.816086</td>\n",
       "      <td>144.982683</td>\n",
       "      <td>-37.815834</td>\n",
       "      <td>145.046450</td>\n",
       "      <td>6247.0</td>\n",
       "      <td>2018-03-01</td>\n",
       "      <td>10:33:12</td>\n",
       "      <td>1831.80</td>\n",
       "      <td>11:03:43</td>\n",
       "      <td>12.10</td>\n",
       "      <td>1449285256</td>\n",
       "      <td>1889485053</td>\n",
       "      <td>6246.0</td>\n",
       "      <td>Different</td>\n",
       "    </tr>\n",
       "    <tr>\n",
       "      <th>8</th>\n",
       "      <td>ID3519897376</td>\n",
       "      <td>1</td>\n",
       "      <td>7</td>\n",
       "      <td>6</td>\n",
       "      <td>-37.861835</td>\n",
       "      <td>144.905716</td>\n",
       "      <td>-37.790797</td>\n",
       "      <td>144.985865</td>\n",
       "      <td>11711.3</td>\n",
       "      <td>2018-05-01</td>\n",
       "      <td>03:01:49</td>\n",
       "      <td>3859.80</td>\n",
       "      <td>4:06:08</td>\n",
       "      <td>27.37</td>\n",
       "      <td>1390575046</td>\n",
       "      <td>4307007286</td>\n",
       "      <td>11711.0</td>\n",
       "      <td>Different</td>\n",
       "    </tr>\n",
       "    <tr>\n",
       "      <th>10</th>\n",
       "      <td>ID3161008936</td>\n",
       "      <td>1</td>\n",
       "      <td>1</td>\n",
       "      <td>8</td>\n",
       "      <td>-37.814972</td>\n",
       "      <td>144.960615</td>\n",
       "      <td>-37.815834</td>\n",
       "      <td>145.046450</td>\n",
       "      <td>7965.7</td>\n",
       "      <td>2018-06-14</td>\n",
       "      <td>19:17:37</td>\n",
       "      <td>2242.50</td>\n",
       "      <td>19:54:59</td>\n",
       "      <td>17.78</td>\n",
       "      <td>2020813843</td>\n",
       "      <td>1889485053</td>\n",
       "      <td>7968.0</td>\n",
       "      <td>Different</td>\n",
       "    </tr>\n",
       "    <tr>\n",
       "      <th>13</th>\n",
       "      <td>ID3282565700</td>\n",
       "      <td>1</td>\n",
       "      <td>6</td>\n",
       "      <td>3</td>\n",
       "      <td>-37.787442</td>\n",
       "      <td>144.980409</td>\n",
       "      <td>-37.819726</td>\n",
       "      <td>144.969655</td>\n",
       "      <td>4256.0</td>\n",
       "      <td>2018-05-01</td>\n",
       "      <td>04:18:29</td>\n",
       "      <td>1127.40</td>\n",
       "      <td>4:37:16</td>\n",
       "      <td>16.92</td>\n",
       "      <td>2204638268</td>\n",
       "      <td>6182893637</td>\n",
       "      <td>4292.0</td>\n",
       "      <td>Different</td>\n",
       "    </tr>\n",
       "    <tr>\n",
       "      <th>14</th>\n",
       "      <td>ID3282565700</td>\n",
       "      <td>1</td>\n",
       "      <td>6</td>\n",
       "      <td>3</td>\n",
       "      <td>-37.787442</td>\n",
       "      <td>144.980409</td>\n",
       "      <td>-37.819726</td>\n",
       "      <td>144.969655</td>\n",
       "      <td>4256.0</td>\n",
       "      <td>2018-05-01</td>\n",
       "      <td>04:18:29</td>\n",
       "      <td>1127.40</td>\n",
       "      <td>4:37:16</td>\n",
       "      <td>16.92</td>\n",
       "      <td>2204638268</td>\n",
       "      <td>6182893638</td>\n",
       "      <td>4701.0</td>\n",
       "      <td>Different</td>\n",
       "    </tr>\n",
       "  </tbody>\n",
       "</table>\n",
       "</div>"
      ],
      "text/plain": [
       "              ID  Uber Type  Origin Region  Destination Region  \\\n",
       "1   ID3328320168          1              7                   1   \n",
       "3   ID3909610108          1              3                   6   \n",
       "7   ID3572262099          1              3                   8   \n",
       "8   ID3519897376          1              7                   6   \n",
       "10  ID3161008936          1              1                   8   \n",
       "13  ID3282565700          1              6                   3   \n",
       "14  ID3282565700          1              6                   3   \n",
       "\n",
       "    Origin Latitude  Origin Longitude  Destination Latitude  \\\n",
       "1        -37.861835        144.905716            -37.820491   \n",
       "3        -37.824544        144.982460            -37.790797   \n",
       "7        -37.816086        144.982683            -37.815834   \n",
       "8        -37.861835        144.905716            -37.790797   \n",
       "10       -37.814972        144.960615            -37.815834   \n",
       "13       -37.787442        144.980409            -37.819726   \n",
       "14       -37.787442        144.980409            -37.819726   \n",
       "\n",
       "    Destination Longitude  Journey Distance(m) Departure Date Departure Time  \\\n",
       "1              144.965925               7426.8     2018-04-18       06:26:22   \n",
       "3              144.985865               4120.4     2018-03-09       11:32:01   \n",
       "7              145.046450               6247.0     2018-03-01       10:33:12   \n",
       "8              144.985865              11711.3     2018-05-01       03:01:49   \n",
       "10             145.046450               7965.7     2018-06-14       19:17:37   \n",
       "13             144.969655               4256.0     2018-05-01       04:18:29   \n",
       "14             144.969655               4256.0     2018-05-01       04:18:29   \n",
       "\n",
       "    Travel Time(s) Arrival Time  Fare$  Origin Node  Destination Node  \\\n",
       "1          2636.16      7:10:18  13.15   1390575046         664379579   \n",
       "3          1186.20     11:51:47   7.98    746921889        4307007286   \n",
       "7          1831.80     11:03:43  12.10   1449285256        1889485053   \n",
       "8          3859.80      4:06:08  27.37   1390575046        4307007286   \n",
       "10         2242.50     19:54:59  17.78   2020813843        1889485053   \n",
       "13         1127.40      4:37:16  16.92   2204638268        6182893637   \n",
       "14         1127.40      4:37:16  16.92   2204638268        6182893638   \n",
       "\n",
       "    Journey Dist Calc    Compare  \n",
       "1              7427.0  Different  \n",
       "3              4111.0  Different  \n",
       "7              6246.0  Different  \n",
       "8             11711.0  Different  \n",
       "10             7968.0  Different  \n",
       "13             4292.0  Different  \n",
       "14             4701.0  Different  "
      ]
     },
     "execution_count": 28,
     "metadata": {},
     "output_type": "execute_result"
    }
   ],
   "source": [
    "# Create the graph\n",
    "G = nx.from_pandas_edgelist(edges, 'u', 'v', 'distance(m)')\n",
    "\n",
    "# Function for returning the shortest path\n",
    "def shortest_path(row):\n",
    "    return nx.shortest_path_length(G, row['Origin Node'], row['Destination Node'], weight='distance(m)', method = 'dijkstra')\n",
    "\n",
    "# Apply the function to a new dataframe row\n",
    "dd['Journey Dist Calc'] = dd.apply(shortest_path, axis=1)\n",
    "\n",
    "# Find the incorrect values\n",
    "dd['Compare'] = np.where(dd['Journey Dist Calc'] == dd['Journey Distance(m)'], 'Same', 'Different')\n",
    "dd.loc[dd['Compare'] == 'Different']"
   ]
  },
  {
   "cell_type": "markdown",
   "metadata": {},
   "source": [
    "This found seven rows that had incorrect Journey Distance values, but I noticed that rows 13 and 14 had the same ID numbers, which can't be right. So upon further inspection, I realised that the same coordinates were given to three separate nodes in the node file. So, I dropped any duplicate values as I am just using the first node value found.\n",
    "\n",
    "Then, I run through the dataframe and switched the correct values with the incorrect where the 'Compare' column was set to 'Different'. \n",
    "\n",
    "Lastly, I dropped the temporary columns to clean up the dataframe.\n"
   ]
  },
  {
   "cell_type": "code",
   "execution_count": 29,
   "metadata": {},
   "outputs": [],
   "source": [
    "# Deleting the duplicate row\n",
    "dd.drop([13,14], inplace = True)\n",
    "\n",
    "# Reset index \n",
    "dd.reset_index(drop = True, inplace = True)\n",
    "\n",
    "# Switch incorrect values\n",
    "for i in range(0,len(dd[\"ID\"])):\n",
    "    if dd[\"Compare\"][i] == 'Different':\n",
    "        dd[\"Journey Distance(m)\"][i] = dd[\"Journey Dist Calc\"][i]\n",
    "\n",
    "# Drop temporary columns\n",
    "dd.drop(dd[['Origin Node', 'Destination Node', 'Journey Dist Calc', 'Compare']], axis=1, inplace=True)"
   ]
  },
  {
   "cell_type": "markdown",
   "metadata": {},
   "source": [
    "### Departure / Arrival Time\n",
    "\n",
    "For the departure and arrival times, I checked for any arrival times that are before departure times. I used a for loop to check if the arrival hour was less than that of departure. I know that there's a possibility that trips will go from late at night until early in the morning, so I filter anything out that arrives before 3 am.\n",
    "\n",
    "It seems as though the two times have been swapped, so I switched them within the loop, and then printed the times just to check everything looks good. "
   ]
  },
  {
   "cell_type": "code",
   "execution_count": 30,
   "metadata": {},
   "outputs": [
    {
     "name": "stdout",
     "output_type": "stream",
     "text": [
      "08:33:05 8:50:44\n",
      "18:58:36 19:25:05\n",
      "18:04:54 19:00:38\n",
      "15:36:21 16:24:23\n",
      "04:43:52 5:09:16\n",
      "21:14:35 22:36:32\n",
      "05:04:35 5:24:06\n",
      "14:34:27 15:20:23\n"
     ]
    }
   ],
   "source": [
    "# Split departure time\n",
    "dd['Split Departure'] = dd['Departure Time'].str.split(':')\n",
    "# Split arrival time\n",
    "dd['Split Arrival'] = dd['Arrival Time'].str.split(':')\n",
    "\n",
    "# Initialising the loop\n",
    "for i in range(len(dd['ID'])):\n",
    "    # Temporary strings\n",
    "    arrtemp = str()\n",
    "    depttemp = str()\n",
    "    \n",
    "    if int(dd['Split Arrival'][i][0]) > 3:\n",
    "        if dd['Split Arrival'][i][0] < dd['Split Departure'][i][0]:\n",
    "            # Adding correct times to the temp strings\n",
    "            arrtemp = dd['Departure Time'][i]\n",
    "            depttemp = dd['Arrival Time'][i]\n",
    "            # Assigning the correct values\n",
    "            dd['Arrival Time'][i] = arrtemp\n",
    "            dd['Departure Time'][i] = depttemp\n",
    "            # Checking\n",
    "            print(dd['Departure Time'][i], dd['Arrival Time'][i]) "
   ]
  },
  {
   "cell_type": "markdown",
   "metadata": {},
   "source": [
    "Finally, we can remove temporary columns."
   ]
  },
  {
   "cell_type": "code",
   "execution_count": 31,
   "metadata": {},
   "outputs": [],
   "source": [
    "# Drop unused columns\n",
    "dd.drop(dd[['Split Departure', 'Split Arrival']], axis=1, inplace = True)"
   ]
  },
  {
   "cell_type": "markdown",
   "metadata": {},
   "source": [
    "### Travel Time"
   ]
  },
  {
   "cell_type": "code",
   "execution_count": 32,
   "metadata": {},
   "outputs": [],
   "source": [
    "# Function to determine travel time\n",
    "def travel_time(path, edges):\n",
    "    tt = 0\n",
    "    for i in range(len(path)-1):\n",
    "        tt = tt + (edges[((edges.u==path[i]) & (edges.v== path[i+1])) | ((edges.v==path[i]) & (edges.u== path[i+1]))]['distance(m)'].values[0] * 1.0 * 3600) / (edges[((edges.u==path[i]) & (edges.v== path[i+1])) | ((edges.v==path[i]) & (edges.u== path[i+1]))]['speed(km/h)'].values[0] * 1000)\n",
    "    return tt"
   ]
  },
  {
   "cell_type": "markdown",
   "metadata": {},
   "source": [
    "### Fare\n",
    "\n",
    "First, I use .describe() to get a feel for the data. Then, as the calculation of the fare is different for each uber type, I created a new .groupby() and .describe() dataframe for fare."
   ]
  },
  {
   "cell_type": "code",
   "execution_count": 33,
   "metadata": {},
   "outputs": [
    {
     "data": {
      "text/plain": [
       "count     300.000000\n",
       "mean       70.635833\n",
       "std       167.701548\n",
       "min         4.420000\n",
       "25%        13.760000\n",
       "50%        18.835000\n",
       "75%        40.560000\n",
       "max      1174.950000\n",
       "Name: Fare$, dtype: float64"
      ]
     },
     "execution_count": 33,
     "metadata": {},
     "output_type": "execute_result"
    }
   ],
   "source": [
    "dd['Fare$'].describe()"
   ]
  },
  {
   "cell_type": "code",
   "execution_count": 34,
   "metadata": {},
   "outputs": [
    {
     "data": {
      "text/html": [
       "<div>\n",
       "<style scoped>\n",
       "    .dataframe tbody tr th:only-of-type {\n",
       "        vertical-align: middle;\n",
       "    }\n",
       "\n",
       "    .dataframe tbody tr th {\n",
       "        vertical-align: top;\n",
       "    }\n",
       "\n",
       "    .dataframe thead th {\n",
       "        text-align: right;\n",
       "    }\n",
       "</style>\n",
       "<table border=\"1\" class=\"dataframe\">\n",
       "  <thead>\n",
       "    <tr style=\"text-align: right;\">\n",
       "      <th></th>\n",
       "      <th>count</th>\n",
       "      <th>mean</th>\n",
       "      <th>std</th>\n",
       "      <th>min</th>\n",
       "      <th>25%</th>\n",
       "      <th>50%</th>\n",
       "      <th>75%</th>\n",
       "      <th>max</th>\n",
       "    </tr>\n",
       "    <tr>\n",
       "      <th>Uber Type</th>\n",
       "      <th></th>\n",
       "      <th></th>\n",
       "      <th></th>\n",
       "      <th></th>\n",
       "      <th></th>\n",
       "      <th></th>\n",
       "      <th></th>\n",
       "      <th></th>\n",
       "    </tr>\n",
       "  </thead>\n",
       "  <tbody>\n",
       "    <tr>\n",
       "      <th>0</th>\n",
       "      <td>127.0</td>\n",
       "      <td>14.555433</td>\n",
       "      <td>5.880209</td>\n",
       "      <td>4.42</td>\n",
       "      <td>10.4800</td>\n",
       "      <td>13.84</td>\n",
       "      <td>17.1600</td>\n",
       "      <td>32.55</td>\n",
       "    </tr>\n",
       "    <tr>\n",
       "      <th>1</th>\n",
       "      <td>123.0</td>\n",
       "      <td>26.174228</td>\n",
       "      <td>14.341039</td>\n",
       "      <td>6.33</td>\n",
       "      <td>16.8150</td>\n",
       "      <td>20.29</td>\n",
       "      <td>29.0200</td>\n",
       "      <td>62.29</td>\n",
       "    </tr>\n",
       "    <tr>\n",
       "      <th>2</th>\n",
       "      <td>50.0</td>\n",
       "      <td>322.455600</td>\n",
       "      <td>305.271519</td>\n",
       "      <td>33.08</td>\n",
       "      <td>112.7275</td>\n",
       "      <td>213.00</td>\n",
       "      <td>329.8975</td>\n",
       "      <td>1174.95</td>\n",
       "    </tr>\n",
       "  </tbody>\n",
       "</table>\n",
       "</div>"
      ],
      "text/plain": [
       "           count        mean         std    min       25%     50%       75%  \\\n",
       "Uber Type                                                                     \n",
       "0          127.0   14.555433    5.880209   4.42   10.4800   13.84   17.1600   \n",
       "1          123.0   26.174228   14.341039   6.33   16.8150   20.29   29.0200   \n",
       "2           50.0  322.455600  305.271519  33.08  112.7275  213.00  329.8975   \n",
       "\n",
       "               max  \n",
       "Uber Type           \n",
       "0            32.55  \n",
       "1            62.29  \n",
       "2          1174.95  "
      ]
     },
     "metadata": {},
     "output_type": "display_data"
    }
   ],
   "source": [
    "# Creating the new dataframe\n",
    "fare = dd.groupby('Uber Type').describe()\n",
    "\n",
    "display(fare['Fare$'])"
   ]
  },
  {
   "cell_type": "markdown",
   "metadata": {},
   "source": [
    "I can't find anything wrong with the values as it seems like none of the values are inconsistent, so I will leave this column as is. "
   ]
  },
  {
   "cell_type": "markdown",
   "metadata": {},
   "source": [
    "### Write dataframe to file\n",
    "\n",
    "Finally, we can save the dataframe to the output file."
   ]
  },
  {
   "cell_type": "code",
   "execution_count": 35,
   "metadata": {},
   "outputs": [],
   "source": [
    "# Rename the index and ID column to originals\n",
    "dd.rename(columns={'ID': ''}, inplace = True)\n",
    "\n",
    "# Write dataframe to file\n",
    "dd.to_csv('30042585_dirty_data_solution.csv', index = False)"
   ]
  },
  {
   "cell_type": "markdown",
   "metadata": {},
   "source": [
    "## 4. Outlier Data\n",
    "\n",
    "For this task, I first read in the outlier file and renamed the ID column.\n",
    "\n",
    "Interestingly, there is an extra column in this dataframe that looks like an index. We will leave it as the assignment states there shuld be exactly the same amount of columns in the output as there were in the input."
   ]
  },
  {
   "cell_type": "code",
   "execution_count": 36,
   "metadata": {},
   "outputs": [
    {
     "data": {
      "text/html": [
       "<div>\n",
       "<style scoped>\n",
       "    .dataframe tbody tr th:only-of-type {\n",
       "        vertical-align: middle;\n",
       "    }\n",
       "\n",
       "    .dataframe tbody tr th {\n",
       "        vertical-align: top;\n",
       "    }\n",
       "\n",
       "    .dataframe thead th {\n",
       "        text-align: right;\n",
       "    }\n",
       "</style>\n",
       "<table border=\"1\" class=\"dataframe\">\n",
       "  <thead>\n",
       "    <tr style=\"text-align: right;\">\n",
       "      <th></th>\n",
       "      <th>Unnamed: 0</th>\n",
       "      <th>ID</th>\n",
       "      <th>Uber Type</th>\n",
       "      <th>Origin Region</th>\n",
       "      <th>Destination Region</th>\n",
       "      <th>Origin Latitude</th>\n",
       "      <th>Origin Longitude</th>\n",
       "      <th>Destination Latitude</th>\n",
       "      <th>Destination Longitude</th>\n",
       "      <th>Journey Distance(m)</th>\n",
       "      <th>Departure Date</th>\n",
       "      <th>Departure Time</th>\n",
       "      <th>Travel Time(s)</th>\n",
       "      <th>Arrival Time</th>\n",
       "      <th>Fare$</th>\n",
       "    </tr>\n",
       "  </thead>\n",
       "  <tbody>\n",
       "    <tr>\n",
       "      <th>0</th>\n",
       "      <td>0</td>\n",
       "      <td>ID3854020684</td>\n",
       "      <td>1</td>\n",
       "      <td>2</td>\n",
       "      <td>4</td>\n",
       "      <td>-37.815928</td>\n",
       "      <td>144.938157</td>\n",
       "      <td>-37.807126</td>\n",
       "      <td>144.991564</td>\n",
       "      <td>5141.0</td>\n",
       "      <td>2018-05-15</td>\n",
       "      <td>12:17:59</td>\n",
       "      <td>1302.36</td>\n",
       "      <td>12:39:41</td>\n",
       "      <td>14.02</td>\n",
       "    </tr>\n",
       "    <tr>\n",
       "      <th>1</th>\n",
       "      <td>1</td>\n",
       "      <td>ID3455540502</td>\n",
       "      <td>1</td>\n",
       "      <td>8</td>\n",
       "      <td>1</td>\n",
       "      <td>-37.807202</td>\n",
       "      <td>145.026637</td>\n",
       "      <td>-37.819696</td>\n",
       "      <td>144.946897</td>\n",
       "      <td>8306.0</td>\n",
       "      <td>2018-05-03</td>\n",
       "      <td>17:14:25</td>\n",
       "      <td>1956.84</td>\n",
       "      <td>17:47:01</td>\n",
       "      <td>18.12</td>\n",
       "    </tr>\n",
       "    <tr>\n",
       "      <th>2</th>\n",
       "      <td>2</td>\n",
       "      <td>ID3463099350</td>\n",
       "      <td>1</td>\n",
       "      <td>7</td>\n",
       "      <td>4</td>\n",
       "      <td>-37.861835</td>\n",
       "      <td>144.905716</td>\n",
       "      <td>-37.801159</td>\n",
       "      <td>145.014580</td>\n",
       "      <td>13105.0</td>\n",
       "      <td>2018-03-27</td>\n",
       "      <td>20:39:56</td>\n",
       "      <td>4180.38</td>\n",
       "      <td>21:49:36</td>\n",
       "      <td>13.68</td>\n",
       "    </tr>\n",
       "    <tr>\n",
       "      <th>3</th>\n",
       "      <td>3</td>\n",
       "      <td>ID1271303505</td>\n",
       "      <td>0</td>\n",
       "      <td>8</td>\n",
       "      <td>4</td>\n",
       "      <td>-37.815834</td>\n",
       "      <td>145.046450</td>\n",
       "      <td>-37.816218</td>\n",
       "      <td>145.007396</td>\n",
       "      <td>3940.0</td>\n",
       "      <td>2018-05-11</td>\n",
       "      <td>17:17:38</td>\n",
       "      <td>1291.98</td>\n",
       "      <td>17:39:09</td>\n",
       "      <td>8.13</td>\n",
       "    </tr>\n",
       "    <tr>\n",
       "      <th>4</th>\n",
       "      <td>4</td>\n",
       "      <td>ID3789763899</td>\n",
       "      <td>1</td>\n",
       "      <td>7</td>\n",
       "      <td>4</td>\n",
       "      <td>-37.861835</td>\n",
       "      <td>144.905716</td>\n",
       "      <td>-37.811918</td>\n",
       "      <td>145.009667</td>\n",
       "      <td>11859.0</td>\n",
       "      <td>2018-07-01</td>\n",
       "      <td>16:59:44</td>\n",
       "      <td>3818.46</td>\n",
       "      <td>18:03:22</td>\n",
       "      <td>28.69</td>\n",
       "    </tr>\n",
       "  </tbody>\n",
       "</table>\n",
       "</div>"
      ],
      "text/plain": [
       "   Unnamed: 0            ID  Uber Type  Origin Region  Destination Region  \\\n",
       "0           0  ID3854020684          1              2                   4   \n",
       "1           1  ID3455540502          1              8                   1   \n",
       "2           2  ID3463099350          1              7                   4   \n",
       "3           3  ID1271303505          0              8                   4   \n",
       "4           4  ID3789763899          1              7                   4   \n",
       "\n",
       "   Origin Latitude  Origin Longitude  Destination Latitude  \\\n",
       "0       -37.815928        144.938157            -37.807126   \n",
       "1       -37.807202        145.026637            -37.819696   \n",
       "2       -37.861835        144.905716            -37.801159   \n",
       "3       -37.815834        145.046450            -37.816218   \n",
       "4       -37.861835        144.905716            -37.811918   \n",
       "\n",
       "   Destination Longitude  Journey Distance(m) Departure Date Departure Time  \\\n",
       "0             144.991564               5141.0     2018-05-15       12:17:59   \n",
       "1             144.946897               8306.0     2018-05-03       17:14:25   \n",
       "2             145.014580              13105.0     2018-03-27       20:39:56   \n",
       "3             145.007396               3940.0     2018-05-11       17:17:38   \n",
       "4             145.009667              11859.0     2018-07-01       16:59:44   \n",
       "\n",
       "   Travel Time(s) Arrival Time  Fare$  \n",
       "0         1302.36     12:39:41  14.02  \n",
       "1         1956.84     17:47:01  18.12  \n",
       "2         4180.38     21:49:36  13.68  \n",
       "3         1291.98     17:39:09   8.13  \n",
       "4         3818.46     18:03:22  28.69  "
      ]
     },
     "execution_count": 36,
     "metadata": {},
     "output_type": "execute_result"
    }
   ],
   "source": [
    "# Read in the file\n",
    "od = pd.read_csv('30042585_outliers.csv')\n",
    "\n",
    "# Rename the ID column\n",
    "od.rename(columns={'Unnamed: 0.1': 'ID'}, inplace=True)\n",
    "\n",
    "#Peek at the head of the data\n",
    "od.head()"
   ]
  },
  {
   "cell_type": "markdown",
   "metadata": {},
   "source": [
    "To begin with, I start by using shape and .describe() to get a feel for the data."
   ]
  },
  {
   "cell_type": "code",
   "execution_count": 37,
   "metadata": {},
   "outputs": [
    {
     "name": "stdout",
     "output_type": "stream",
     "text": [
      "Shape of the outlier dataframe:  (112, 15)\n"
     ]
    },
    {
     "data": {
      "text/html": [
       "<div>\n",
       "<style scoped>\n",
       "    .dataframe tbody tr th:only-of-type {\n",
       "        vertical-align: middle;\n",
       "    }\n",
       "\n",
       "    .dataframe tbody tr th {\n",
       "        vertical-align: top;\n",
       "    }\n",
       "\n",
       "    .dataframe thead th {\n",
       "        text-align: right;\n",
       "    }\n",
       "</style>\n",
       "<table border=\"1\" class=\"dataframe\">\n",
       "  <thead>\n",
       "    <tr style=\"text-align: right;\">\n",
       "      <th></th>\n",
       "      <th>Unnamed: 0</th>\n",
       "      <th>Uber Type</th>\n",
       "      <th>Origin Region</th>\n",
       "      <th>Destination Region</th>\n",
       "      <th>Origin Latitude</th>\n",
       "      <th>Origin Longitude</th>\n",
       "      <th>Destination Latitude</th>\n",
       "      <th>Destination Longitude</th>\n",
       "      <th>Journey Distance(m)</th>\n",
       "      <th>Travel Time(s)</th>\n",
       "      <th>Fare$</th>\n",
       "    </tr>\n",
       "  </thead>\n",
       "  <tbody>\n",
       "    <tr>\n",
       "      <th>count</th>\n",
       "      <td>112.000000</td>\n",
       "      <td>112.000000</td>\n",
       "      <td>112.000000</td>\n",
       "      <td>112.000000</td>\n",
       "      <td>112.000000</td>\n",
       "      <td>112.000000</td>\n",
       "      <td>112.000000</td>\n",
       "      <td>112.000000</td>\n",
       "      <td>112.000000</td>\n",
       "      <td>112.000000</td>\n",
       "      <td>112.000000</td>\n",
       "    </tr>\n",
       "    <tr>\n",
       "      <th>mean</th>\n",
       "      <td>55.500000</td>\n",
       "      <td>0.651786</td>\n",
       "      <td>5.401786</td>\n",
       "      <td>4.473214</td>\n",
       "      <td>-37.861454</td>\n",
       "      <td>144.918558</td>\n",
       "      <td>-37.839699</td>\n",
       "      <td>144.939441</td>\n",
       "      <td>15952.955357</td>\n",
       "      <td>4190.911607</td>\n",
       "      <td>54.212500</td>\n",
       "    </tr>\n",
       "    <tr>\n",
       "      <th>std</th>\n",
       "      <td>32.475632</td>\n",
       "      <td>0.693728</td>\n",
       "      <td>2.587077</td>\n",
       "      <td>2.571359</td>\n",
       "      <td>0.104337</td>\n",
       "      <td>0.116020</td>\n",
       "      <td>0.082835</td>\n",
       "      <td>0.093165</td>\n",
       "      <td>17075.414027</td>\n",
       "      <td>4123.449873</td>\n",
       "      <td>138.696125</td>\n",
       "    </tr>\n",
       "    <tr>\n",
       "      <th>min</th>\n",
       "      <td>0.000000</td>\n",
       "      <td>0.000000</td>\n",
       "      <td>1.000000</td>\n",
       "      <td>1.000000</td>\n",
       "      <td>-38.110916</td>\n",
       "      <td>144.654173</td>\n",
       "      <td>-38.110916</td>\n",
       "      <td>144.654173</td>\n",
       "      <td>1238.000000</td>\n",
       "      <td>298.980000</td>\n",
       "      <td>2.220000</td>\n",
       "    </tr>\n",
       "    <tr>\n",
       "      <th>25%</th>\n",
       "      <td>27.750000</td>\n",
       "      <td>0.000000</td>\n",
       "      <td>3.000000</td>\n",
       "      <td>2.000000</td>\n",
       "      <td>-37.861835</td>\n",
       "      <td>144.905716</td>\n",
       "      <td>-37.820759</td>\n",
       "      <td>144.932148</td>\n",
       "      <td>4528.500000</td>\n",
       "      <td>1290.195000</td>\n",
       "      <td>9.918750</td>\n",
       "    </tr>\n",
       "    <tr>\n",
       "      <th>50%</th>\n",
       "      <td>55.500000</td>\n",
       "      <td>1.000000</td>\n",
       "      <td>5.500000</td>\n",
       "      <td>4.000000</td>\n",
       "      <td>-37.815834</td>\n",
       "      <td>144.943503</td>\n",
       "      <td>-37.814968</td>\n",
       "      <td>144.947498</td>\n",
       "      <td>8815.000000</td>\n",
       "      <td>2703.750000</td>\n",
       "      <td>16.660000</td>\n",
       "    </tr>\n",
       "    <tr>\n",
       "      <th>75%</th>\n",
       "      <td>83.250000</td>\n",
       "      <td>1.000000</td>\n",
       "      <td>8.000000</td>\n",
       "      <td>7.000000</td>\n",
       "      <td>-37.810426</td>\n",
       "      <td>144.985865</td>\n",
       "      <td>-37.807183</td>\n",
       "      <td>144.988056</td>\n",
       "      <td>12592.750000</td>\n",
       "      <td>3995.880000</td>\n",
       "      <td>28.950000</td>\n",
       "    </tr>\n",
       "    <tr>\n",
       "      <th>max</th>\n",
       "      <td>111.000000</td>\n",
       "      <td>2.000000</td>\n",
       "      <td>9.000000</td>\n",
       "      <td>9.000000</td>\n",
       "      <td>-37.773845</td>\n",
       "      <td>145.046450</td>\n",
       "      <td>-37.773803</td>\n",
       "      <td>145.046450</td>\n",
       "      <td>51061.000000</td>\n",
       "      <td>13204.980000</td>\n",
       "      <td>1104.730000</td>\n",
       "    </tr>\n",
       "  </tbody>\n",
       "</table>\n",
       "</div>"
      ],
      "text/plain": [
       "       Unnamed: 0   Uber Type  Origin Region  Destination Region  \\\n",
       "count  112.000000  112.000000     112.000000          112.000000   \n",
       "mean    55.500000    0.651786       5.401786            4.473214   \n",
       "std     32.475632    0.693728       2.587077            2.571359   \n",
       "min      0.000000    0.000000       1.000000            1.000000   \n",
       "25%     27.750000    0.000000       3.000000            2.000000   \n",
       "50%     55.500000    1.000000       5.500000            4.000000   \n",
       "75%     83.250000    1.000000       8.000000            7.000000   \n",
       "max    111.000000    2.000000       9.000000            9.000000   \n",
       "\n",
       "       Origin Latitude  Origin Longitude  Destination Latitude  \\\n",
       "count       112.000000        112.000000            112.000000   \n",
       "mean        -37.861454        144.918558            -37.839699   \n",
       "std           0.104337          0.116020              0.082835   \n",
       "min         -38.110916        144.654173            -38.110916   \n",
       "25%         -37.861835        144.905716            -37.820759   \n",
       "50%         -37.815834        144.943503            -37.814968   \n",
       "75%         -37.810426        144.985865            -37.807183   \n",
       "max         -37.773845        145.046450            -37.773803   \n",
       "\n",
       "       Destination Longitude  Journey Distance(m)  Travel Time(s)        Fare$  \n",
       "count             112.000000           112.000000      112.000000   112.000000  \n",
       "mean              144.939441         15952.955357     4190.911607    54.212500  \n",
       "std                 0.093165         17075.414027     4123.449873   138.696125  \n",
       "min               144.654173          1238.000000      298.980000     2.220000  \n",
       "25%               144.932148          4528.500000     1290.195000     9.918750  \n",
       "50%               144.947498          8815.000000     2703.750000    16.660000  \n",
       "75%               144.988056         12592.750000     3995.880000    28.950000  \n",
       "max               145.046450         51061.000000    13204.980000  1104.730000  "
      ]
     },
     "metadata": {},
     "output_type": "display_data"
    }
   ],
   "source": [
    "# Print the shape and description\n",
    "print('Shape of the outlier dataframe: ', od.shape)\n",
    "display(od.describe())"
   ]
  },
  {
   "cell_type": "markdown",
   "metadata": {},
   "source": [
    "We can see that the categorical data (Uber Type, Origin Region and Destination Region) look fine as they all the values are within the required ranges. The latitude and longitude values also look acceptable, as they are all within their scope and the standard deviation is low. This leaves Journey Distance, Travel Time, and Fare$ - which will be explored separately in the following sections. \n",
    " \n",
    "### Find Outliers\n",
    "#### Journey Distance\n",
    "\n",
    "First, I used graphical exploratory data analysis. I set up a function to find the median difference, and then plot the data onto a graph using this function."
   ]
  },
  {
   "cell_type": "code",
   "execution_count": 38,
   "metadata": {},
   "outputs": [
    {
     "data": {
      "image/png": "[encoded data removed]",
      "text/plain": [
       "<Figure size 720x360 with 1 Axes>"
      ]
     },
     "metadata": {
      "needs_background": "light"
     },
     "output_type": "display_data"
    }
   ],
   "source": [
    "# Setting up a function\n",
    "def get_median_filtered(signal, threshold=3):\n",
    "    signal = signal.copy()\n",
    "    # Find the median difference\n",
    "    difference = np.abs(signal - np.median(signal))\n",
    "    median_difference = np.median(difference)\n",
    "    if median_difference == 0:\n",
    "        s = 0\n",
    "    else:\n",
    "        s = difference / float(median_difference)\n",
    "    mask = s > threshold\n",
    "    signal[mask] = np.median(signal)\n",
    "    return signal\n",
    "\n",
    "# Defining plot style\n",
    "figsize = (10, 5)\n",
    "kw = dict(marker = 'o', linestyle = 'none', color = 'r', alpha = 0.3)\n",
    "\n",
    "# Finding data points using function\n",
    "od['jd_med'] = get_median_filtered(od['Journey Distance(m)'].values, threshold = 3)\n",
    "outlier_idx = np.where(od['jd_med'].values != od['Journey Distance(m)'].values)[0]\n",
    "\n",
    "# Plotting\n",
    "fig, ax = plt.subplots(figsize=figsize)\n",
    "od['Journey Distance(m)'].plot()\n",
    "od['Journey Distance(m)'][outlier_idx].plot(**kw)\n",
    "_ = ax.set_ylim(0, 60000)"
   ]
  },
  {
   "cell_type": "markdown",
   "metadata": {},
   "source": [
    "I also decided to to make a boxplot using seaborn."
   ]
  },
  {
   "cell_type": "code",
   "execution_count": 41,
   "metadata": {},
   "outputs": [
    {
     "data": {
      "text/plain": [
       "<matplotlib.axes._subplots.AxesSubplot at 0x1a229cf208>"
      ]
     },
     "execution_count": 41,
     "metadata": {},
     "output_type": "execute_result"
    },
    {
     "data": {
      "image/png": "[encoded data removed]",
      "text/plain": [
       "<Figure size 1440x216 with 1 Axes>"
      ]
     },
     "metadata": {},
     "output_type": "display_data"
    }
   ],
   "source": [
    "sns.boxplot(x = od['Journey Distance(m)'])"
   ]
  },
  {
   "cell_type": "markdown",
   "metadata": {},
   "source": [
    "We can see from these plots that there are significant outliers from about 40,000 metres onwards.\n",
    "\n",
    "Next, I used a non-graphical method to find the outliers."
   ]
  },
  {
   "cell_type": "code",
   "execution_count": 42,
   "metadata": {},
   "outputs": [
    {
     "name": "stdout",
     "output_type": "stream",
     "text": [
      "Lower fence:  -7567.875\n",
      "Upper fence:  24689.125\n"
     ]
    }
   ],
   "source": [
    "# Finding the 25th and 75th percentiles\n",
    "Q1 = od['Journey Distance(m)'].quantile(0.25)\n",
    "Q3 = od['Journey Distance(m)'].quantile(0.75)\n",
    "\n",
    "# Finding the interquartile range\n",
    "IQR = Q3 - Q1\n",
    "\n",
    "# Finding the lower and upper fences\n",
    "lower_fence = Q1 -(1.5 * IQR) \n",
    "print('Lower fence: ', lower_fence)\n",
    "upper_fence = Q3 +(1.5 * IQR) \n",
    "print('Upper fence: ', upper_fence)"
   ]
  },
  {
   "cell_type": "markdown",
   "metadata": {},
   "source": [
    "The lower fence is -7567.875 and the upper fence is 24689.125, so anything outside of these values is an outlier.\n",
    "\n",
    "So now I filter out all the values above the upper fence, and add the index values to a list for removal after the outliers for every variable are detected."
   ]
  },
  {
   "cell_type": "code",
   "execution_count": 43,
   "metadata": {},
   "outputs": [
    {
     "name": "stdout",
     "output_type": "stream",
     "text": [
      "Number of Journey Distance outliers:  25\n"
     ]
    }
   ],
   "source": [
    "# Filter out values about upper fence\n",
    "jd_outliers = od.loc[od['Journey Distance(m)'] > 24689.125]\n",
    "print('Number of Journey Distance outliers: ', len(jd_outliers))\n",
    "\n",
    "# Add to list for removal at the end\n",
    "jd_outliers = jd_outliers.index.tolist()"
   ]
  },
  {
   "cell_type": "markdown",
   "metadata": {},
   "source": [
    "#### Travel Time\n",
    "\n",
    "Next is Travel Time, which follows the same process as the Journey Distance."
   ]
  },
  {
   "cell_type": "code",
   "execution_count": 44,
   "metadata": {},
   "outputs": [
    {
     "data": {
      "image/png": "[encoded data removed]",
      "text/plain": [
       "<Figure size 720x360 with 1 Axes>"
      ]
     },
     "metadata": {},
     "output_type": "display_data"
    }
   ],
   "source": [
    "# Creating the plot\n",
    "figsize = (10, 5)\n",
    "kw = dict(marker='o', linestyle='none', color='r', alpha = 0.3)\n",
    "\n",
    "od['tt_med'] = get_median_filtered(od['Travel Time(s)'].values, threshold = 3)\n",
    "outlier_idx = np.where(od['tt_med'].values != od['Travel Time(s)'].values)[0]\n",
    "\n",
    "fig, ax = plt.subplots(figsize=figsize)\n",
    "od['Travel Time(s)'].plot()\n",
    "od['Travel Time(s)'][outlier_idx].plot(**kw)\n",
    "_ = ax.set_ylim(0, 15000)"
   ]
  },
  {
   "cell_type": "code",
   "execution_count": 45,
   "metadata": {},
   "outputs": [
    {
     "data": {
      "text/plain": [
       "<matplotlib.axes._subplots.AxesSubplot at 0x1a24dc9828>"
      ]
     },
     "execution_count": 45,
     "metadata": {},
     "output_type": "execute_result"
    },
    {
     "data": {
      "image/png": "[encoded data removed]",
      "text/plain": [
       "<Figure size 1440x216 with 1 Axes>"
      ]
     },
     "metadata": {},
     "output_type": "display_data"
    }
   ],
   "source": [
    "# Creating the boxplot\n",
    "sns.boxplot(x = od['Travel Time(s)'])"
   ]
  },
  {
   "cell_type": "markdown",
   "metadata": {},
   "source": [
    "Again, there are some clearly observable outliers in the data, at about the 10,000 mark and onwards.\n",
    "\n",
    "Finding the IQR and lower/upper fences."
   ]
  },
  {
   "cell_type": "code",
   "execution_count": 46,
   "metadata": {},
   "outputs": [
    {
     "name": "stdout",
     "output_type": "stream",
     "text": [
      "Lower fence:  -2768.3324999999973\n",
      "Upper fence:  8054.407499999996\n"
     ]
    }
   ],
   "source": [
    "# IQR\n",
    "Q1 = od['Travel Time(s)'].quantile(0.25)\n",
    "Q3 = od['Travel Time(s)'].quantile(0.75)\n",
    "IQR = Q3 - Q1\n",
    "\n",
    "# Lower/upper fences\n",
    "lower_fence = Q1 -(1.5 * IQR) \n",
    "print('Lower fence: ', lower_fence)\n",
    "upper_fence = Q3 +(1.5 * IQR) \n",
    "print('Upper fence: ', upper_fence)"
   ]
  },
  {
   "cell_type": "markdown",
   "metadata": {},
   "source": [
    "Finally, the outliers index list is made. This list has 25 entries."
   ]
  },
  {
   "cell_type": "code",
   "execution_count": 47,
   "metadata": {},
   "outputs": [
    {
     "name": "stdout",
     "output_type": "stream",
     "text": [
      "Number of Travel Time outliers:  25\n"
     ]
    }
   ],
   "source": [
    "# Filtering out outliers\n",
    "tt_outliers = od.loc[od['Travel Time(s)'] > 8054.407]\n",
    "print('Number of Travel Time outliers: ',len(tt_outliers))\n",
    "\n",
    "# Add to removal list\n",
    "tt_outliers = tt_outliers.index.tolist()"
   ]
  },
  {
   "cell_type": "markdown",
   "metadata": {},
   "source": [
    "#### Fare\n",
    "\n",
    "Lastly, the Fare column."
   ]
  },
  {
   "cell_type": "code",
   "execution_count": 48,
   "metadata": {},
   "outputs": [
    {
     "data": {
      "image/png": "[encoded data removed]",
      "text/plain": [
       "<Figure size 720x360 with 1 Axes>"
      ]
     },
     "metadata": {},
     "output_type": "display_data"
    }
   ],
   "source": [
    "# Create the plot\n",
    "figsize = (10, 5)\n",
    "kw = dict(marker='o', linestyle='none', color='r', alpha = 0.3)\n",
    "\n",
    "od['fare_med'] = get_median_filtered(od['Fare$'].values, threshold = 5)\n",
    "\n",
    "outlier_idx = np.where(od['fare_med'].values != od['Fare$'].values)[0]\n",
    "\n",
    "fig, ax = plt.subplots(figsize=figsize)\n",
    "od['Fare$'].plot()\n",
    "od['Fare$'][outlier_idx].plot(**kw)\n",
    "_ = ax.set_ylim(0, 1250)"
   ]
  },
  {
   "cell_type": "code",
   "execution_count": 49,
   "metadata": {},
   "outputs": [
    {
     "data": {
      "text/plain": [
       "<matplotlib.axes._subplots.AxesSubplot at 0x1a239c6908>"
      ]
     },
     "execution_count": 49,
     "metadata": {},
     "output_type": "execute_result"
    },
    {
     "data": {
      "image/png": "[encoded data removed]",
      "text/plain": [
       "<Figure size 1440x216 with 1 Axes>"
      ]
     },
     "metadata": {},
     "output_type": "display_data"
    }
   ],
   "source": [
    "# Create the boxplot\n",
    "sns.boxplot(x = od['Fare$'])"
   ]
  },
  {
   "cell_type": "markdown",
   "metadata": {},
   "source": [
    "Once again, we can clearly see there are outliers here, so we again find the IQR and lower/upper fences."
   ]
  },
  {
   "cell_type": "code",
   "execution_count": 50,
   "metadata": {},
   "outputs": [
    {
     "name": "stdout",
     "output_type": "stream",
     "text": [
      "Lower fence:  -18.628124999999997\n",
      "Upper fence:  57.496875\n"
     ]
    }
   ],
   "source": [
    "# IQR\n",
    "Q1 = od['Fare$'].quantile(0.25)\n",
    "Q3 = od['Fare$'].quantile(0.75)\n",
    "IQR = Q3 - Q1\n",
    "\n",
    "# Lower/upper fences\n",
    "lower_fence = Q1 -(1.5 * IQR) \n",
    "print('Lower fence: ', lower_fence)\n",
    "upper_fence = Q3 +(1.5 * IQR) \n",
    "print('Upper fence: ', upper_fence)"
   ]
  },
  {
   "cell_type": "markdown",
   "metadata": {},
   "source": [
    "Lastly, filter the outliers and add to a removal list."
   ]
  },
  {
   "cell_type": "code",
   "execution_count": 51,
   "metadata": {},
   "outputs": [
    {
     "name": "stdout",
     "output_type": "stream",
     "text": [
      "15\n"
     ]
    }
   ],
   "source": [
    "fare_outliers = od.loc[od['Fare$'] > 57.497]\n",
    "print(len(fare_outliers))\n",
    "\n",
    "# add to list for removal at the end\n",
    "fare_outliers = fare_outliers.index.tolist()"
   ]
  },
  {
   "cell_type": "markdown",
   "metadata": {},
   "source": [
    "### Remove Outliers + Save File\n",
    "\n",
    "Finally, the outliers need to be removed from the dataset. To do this, I added all the removal index lists together, and converted it into a set to remove any duplicate values. "
   ]
  },
  {
   "cell_type": "code",
   "execution_count": 52,
   "metadata": {},
   "outputs": [
    {
     "name": "stdout",
     "output_type": "stream",
     "text": [
      "Outlier list:  65\n",
      "Outlier set:  34\n",
      "Removal list:  {5, 7, 8, 20, 21, 22, 28, 29, 31, 33, 34, 40, 42, 43, 45, 48, 50, 60, 64, 67, 70, 73, 79, 81, 90, 91, 92, 95, 96, 98, 102, 105, 106, 108}\n"
     ]
    }
   ],
   "source": [
    "# Add the lists together \n",
    "removal_list = jd_outliers + tt_outliers + fare_outliers\n",
    "# Print the length out of curiosity\n",
    "print('Outlier list: ', len(removal_list))\n",
    "\n",
    "# Transform into a set \n",
    "removal_list = set(removal_list)\n",
    "print('Outlier set: ',len(removal_list))\n",
    "print('Removal list: ', removal_list)"
   ]
  },
  {
   "cell_type": "markdown",
   "metadata": {},
   "source": [
    "Next, I dropped the outlier rows and the temporary columns. I also printed the shape just to check everything was in order."
   ]
  },
  {
   "cell_type": "code",
   "execution_count": 53,
   "metadata": {},
   "outputs": [
    {
     "name": "stdout",
     "output_type": "stream",
     "text": [
      "Shape of the outlier dataframe:  (78, 15)\n"
     ]
    }
   ],
   "source": [
    "# Drop the outlier rows\n",
    "od.drop(od.index[[5, 7, 8, 20, 21, 22, 28, 29, 31, 33, 34, 40, 42, 43, 45, 48, 50, 60, 64, 67, 70, 73, 79, 81, 90, 91, 92, 95, 96, 98, 102, 105, 106, 108]], inplace = True)\n",
    "# Drop temporary columns\n",
    "od.drop(['jd_med', 'tt_med', 'fare_med'], axis = 1, inplace = True)\n",
    "\n",
    "# Print the shape\n",
    "print('Shape of the outlier dataframe: ', od.shape)"
   ]
  },
  {
   "cell_type": "markdown",
   "metadata": {},
   "source": [
    "I decided to have a final peek at the boxplots just to ensure validity of the removal technique, which I was happy with."
   ]
  },
  {
   "cell_type": "code",
   "execution_count": 54,
   "metadata": {},
   "outputs": [
    {
     "data": {
      "text/plain": [
       "<matplotlib.axes._subplots.AxesSubplot at 0x1a23abf4a8>"
      ]
     },
     "execution_count": 54,
     "metadata": {},
     "output_type": "execute_result"
    },
    {
     "data": {
      "image/png": "[encoded data removed]",
      "text/plain": [
       "<Figure size 1440x216 with 1 Axes>"
      ]
     },
     "metadata": {},
     "output_type": "display_data"
    }
   ],
   "source": [
    "sns.boxplot(x = od['Journey Distance(m)'])"
   ]
  },
  {
   "cell_type": "code",
   "execution_count": 55,
   "metadata": {},
   "outputs": [
    {
     "data": {
      "text/plain": [
       "<matplotlib.axes._subplots.AxesSubplot at 0x1a23abf208>"
      ]
     },
     "execution_count": 55,
     "metadata": {},
     "output_type": "execute_result"
    },
    {
     "data": {
      "image/png": "[encoded data removed]",
      "text/plain": [
       "<Figure size 1440x216 with 1 Axes>"
      ]
     },
     "metadata": {},
     "output_type": "display_data"
    }
   ],
   "source": [
    "sns.boxplot(x = od['Travel Time(s)'])"
   ]
  },
  {
   "cell_type": "code",
   "execution_count": 56,
   "metadata": {},
   "outputs": [
    {
     "data": {
      "text/plain": [
       "<matplotlib.axes._subplots.AxesSubplot at 0x1a239c6160>"
      ]
     },
     "execution_count": 56,
     "metadata": {},
     "output_type": "execute_result"
    },
    {
     "data": {
      "image/png": "[encoded data removed]",
      "text/plain": [
       "<Figure size 1440x216 with 1 Axes>"
      ]
     },
     "metadata": {},
     "output_type": "display_data"
    }
   ],
   "source": [
    "sns.boxplot(x = od['Fare$'])"
   ]
  },
  {
   "cell_type": "markdown",
   "metadata": {},
   "source": [
    "Finally, we can write the output data to a csv file using Pandas to_csv."
   ]
  },
  {
   "cell_type": "code",
   "execution_count": 57,
   "metadata": {},
   "outputs": [],
   "source": [
    "# Rename the index and ID column to originals\n",
    "od.rename(columns={'Unnamed: 0': ''}, inplace=True)\n",
    "od.rename(columns={'ID': 'Unnamed: 0'}, inplace=True)\n",
    "\n",
    "# Writing to output file\n",
    "od.to_csv('30042585_outliers_solution.csv', index = False)"
   ]
  },
  {
   "cell_type": "markdown",
   "metadata": {},
   "source": [
    "## 4. Missing Value Data\n",
    "\n",
    "For the final task and dataset, I once again read in the dataset and rename the ID column."
   ]
  },
  {
   "cell_type": "code",
   "execution_count": 58,
   "metadata": {},
   "outputs": [
    {
     "name": "stdout",
     "output_type": "stream",
     "text": [
      "(121, 14)\n"
     ]
    },
    {
     "data": {
      "text/html": [
       "<div>\n",
       "<style scoped>\n",
       "    .dataframe tbody tr th:only-of-type {\n",
       "        vertical-align: middle;\n",
       "    }\n",
       "\n",
       "    .dataframe tbody tr th {\n",
       "        vertical-align: top;\n",
       "    }\n",
       "\n",
       "    .dataframe thead th {\n",
       "        text-align: right;\n",
       "    }\n",
       "</style>\n",
       "<table border=\"1\" class=\"dataframe\">\n",
       "  <thead>\n",
       "    <tr style=\"text-align: right;\">\n",
       "      <th></th>\n",
       "      <th>ID</th>\n",
       "      <th>Uber Type</th>\n",
       "      <th>Origin Region</th>\n",
       "      <th>Destination Region</th>\n",
       "      <th>Origin Latitude</th>\n",
       "      <th>Origin Longitude</th>\n",
       "      <th>Destination Latitude</th>\n",
       "      <th>Destination Longitude</th>\n",
       "      <th>Journey Distance(m)</th>\n",
       "      <th>Departure Date</th>\n",
       "      <th>Departure Time</th>\n",
       "      <th>Travel Time(s)</th>\n",
       "      <th>Arrival Time</th>\n",
       "      <th>Fare$</th>\n",
       "    </tr>\n",
       "  </thead>\n",
       "  <tbody>\n",
       "    <tr>\n",
       "      <th>0</th>\n",
       "      <td>ID5559165491</td>\n",
       "      <td>2.0</td>\n",
       "      <td>8</td>\n",
       "      <td>6</td>\n",
       "      <td>-37.807202</td>\n",
       "      <td>145.026637</td>\n",
       "      <td>-37.773803</td>\n",
       "      <td>144.983647</td>\n",
       "      <td>11470.0</td>\n",
       "      <td>2018-05-07</td>\n",
       "      <td>07:46:36</td>\n",
       "      <td>3458.94</td>\n",
       "      <td>8:44:14</td>\n",
       "      <td>280.54</td>\n",
       "    </tr>\n",
       "    <tr>\n",
       "      <th>1</th>\n",
       "      <td>ID1391942606</td>\n",
       "      <td>NaN</td>\n",
       "      <td>7</td>\n",
       "      <td>4</td>\n",
       "      <td>-37.861835</td>\n",
       "      <td>144.905716</td>\n",
       "      <td>-37.801562</td>\n",
       "      <td>144.996775</td>\n",
       "      <td>11539.0</td>\n",
       "      <td>2018-06-17</td>\n",
       "      <td>07:56:38</td>\n",
       "      <td>3753.00</td>\n",
       "      <td>8:59:11</td>\n",
       "      <td>13.51</td>\n",
       "    </tr>\n",
       "    <tr>\n",
       "      <th>2</th>\n",
       "      <td>ID1804057934</td>\n",
       "      <td>0.0</td>\n",
       "      <td>5</td>\n",
       "      <td>9</td>\n",
       "      <td>-37.802796</td>\n",
       "      <td>144.936429</td>\n",
       "      <td>-38.110916</td>\n",
       "      <td>144.654173</td>\n",
       "      <td>43817.0</td>\n",
       "      <td>2018-07-27</td>\n",
       "      <td>00:37:30</td>\n",
       "      <td>10508.46</td>\n",
       "      <td>3:32:38</td>\n",
       "      <td>31.65</td>\n",
       "    </tr>\n",
       "    <tr>\n",
       "      <th>3</th>\n",
       "      <td>ID1736641249</td>\n",
       "      <td>0.0</td>\n",
       "      <td>8</td>\n",
       "      <td>4</td>\n",
       "      <td>-37.815834</td>\n",
       "      <td>145.046450</td>\n",
       "      <td>-37.803248</td>\n",
       "      <td>145.001800</td>\n",
       "      <td>5115.0</td>\n",
       "      <td>2018-07-24</td>\n",
       "      <td>14:20:26</td>\n",
       "      <td>1567.68</td>\n",
       "      <td>14:46:33</td>\n",
       "      <td>11.62</td>\n",
       "    </tr>\n",
       "    <tr>\n",
       "      <th>4</th>\n",
       "      <td>ID3403476115</td>\n",
       "      <td>1.0</td>\n",
       "      <td>9</td>\n",
       "      <td>4</td>\n",
       "      <td>-38.110916</td>\n",
       "      <td>144.654173</td>\n",
       "      <td>-37.801151</td>\n",
       "      <td>144.988756</td>\n",
       "      <td>46519.0</td>\n",
       "      <td>2018-05-15</td>\n",
       "      <td>19:19:22</td>\n",
       "      <td>11229.66</td>\n",
       "      <td>22:26:31</td>\n",
       "      <td>48.73</td>\n",
       "    </tr>\n",
       "  </tbody>\n",
       "</table>\n",
       "</div>"
      ],
      "text/plain": [
       "             ID  Uber Type  Origin Region  Destination Region  \\\n",
       "0  ID5559165491        2.0              8                   6   \n",
       "1  ID1391942606        NaN              7                   4   \n",
       "2  ID1804057934        0.0              5                   9   \n",
       "3  ID1736641249        0.0              8                   4   \n",
       "4  ID3403476115        1.0              9                   4   \n",
       "\n",
       "   Origin Latitude  Origin Longitude  Destination Latitude  \\\n",
       "0       -37.807202        145.026637            -37.773803   \n",
       "1       -37.861835        144.905716            -37.801562   \n",
       "2       -37.802796        144.936429            -38.110916   \n",
       "3       -37.815834        145.046450            -37.803248   \n",
       "4       -38.110916        144.654173            -37.801151   \n",
       "\n",
       "   Destination Longitude  Journey Distance(m) Departure Date Departure Time  \\\n",
       "0             144.983647              11470.0     2018-05-07       07:46:36   \n",
       "1             144.996775              11539.0     2018-06-17       07:56:38   \n",
       "2             144.654173              43817.0     2018-07-27       00:37:30   \n",
       "3             145.001800               5115.0     2018-07-24       14:20:26   \n",
       "4             144.988756              46519.0     2018-05-15       19:19:22   \n",
       "\n",
       "   Travel Time(s) Arrival Time   Fare$  \n",
       "0         3458.94      8:44:14  280.54  \n",
       "1         3753.00      8:59:11   13.51  \n",
       "2        10508.46      3:32:38   31.65  \n",
       "3         1567.68     14:46:33   11.62  \n",
       "4        11229.66     22:26:31   48.73  "
      ]
     },
     "execution_count": 58,
     "metadata": {},
     "output_type": "execute_result"
    }
   ],
   "source": [
    "# Read in the dataset and rename ID column\n",
    "md = pd.read_csv('30042585_missing_value.csv')\n",
    "md.rename(columns={'Unnamed: 0': 'ID'}, inplace=True)\n",
    "\n",
    "# Peek at the data\n",
    "print(md.shape)\n",
    "md.head()"
   ]
  },
  {
   "cell_type": "markdown",
   "metadata": {},
   "source": [
    "To find the null values, I used .isnull().sum(). From this, we can see that both Uber Type and Fare have missing values.\n",
    "\n",
    "Let's work on Uber Type first."
   ]
  },
  {
   "cell_type": "code",
   "execution_count": 59,
   "metadata": {
    "scrolled": true
   },
   "outputs": [
    {
     "data": {
      "text/plain": [
       "ID                        0\n",
       "Uber Type                19\n",
       "Origin Region             0\n",
       "Destination Region        0\n",
       "Origin Latitude           0\n",
       "Origin Longitude          0\n",
       "Destination Latitude      0\n",
       "Destination Longitude     0\n",
       "Journey Distance(m)       0\n",
       "Departure Date            0\n",
       "Departure Time            0\n",
       "Travel Time(s)            0\n",
       "Arrival Time              0\n",
       "Fare$                    17\n",
       "dtype: int64"
      ]
     },
     "execution_count": 59,
     "metadata": {},
     "output_type": "execute_result"
    }
   ],
   "source": [
    "md.isnull().sum()"
   ]
  },
  {
   "cell_type": "markdown",
   "metadata": {},
   "source": [
    "### Fixing Missing Uber Type\n",
    "\n",
    "There are 19 missing uber type values.\n",
    "\n",
    "We already know from the Dirty Data dataset that the Uber Types are linked to the ID, so we can call on the same function to fill in the missing values.\n"
   ]
  },
  {
   "cell_type": "code",
   "execution_count": 60,
   "metadata": {},
   "outputs": [
    {
     "data": {
      "text/plain": [
       "1.0    44\n",
       "0.0    42\n",
       "2.0    16\n",
       "Name: Uber Type, dtype: int64"
      ]
     },
     "execution_count": 60,
     "metadata": {},
     "output_type": "execute_result"
    }
   ],
   "source": [
    "md['Uber Type'].value_counts()"
   ]
  },
  {
   "cell_type": "code",
   "execution_count": 61,
   "metadata": {},
   "outputs": [],
   "source": [
    "# Define the function\n",
    "def replace_uber_type(row):\n",
    "    # Convert the ID to a string and strip\n",
    "    strid=str(row['ID'])\n",
    "    strid=strid.replace('ID','') \n",
    "    # Check if the id starts with 1 \n",
    "    if(strid.startswith('1')): \n",
    "        #sub in uber type\n",
    "        row['Uber Type'] = 0 \n",
    "    elif(strid.startswith('3')):\n",
    "        row['Uber Type'] = 1\n",
    "    else:\n",
    "        row['Uber Type'] = 2      \n",
    "    return row\n",
    "\n",
    "# Apply the function to the rows\n",
    "md = md.apply(lambda row: replace_uber_type(row), axis=1)"
   ]
  },
  {
   "cell_type": "markdown",
   "metadata": {},
   "source": [
    "Lastly, I check the value counts - everything looks good, and each Uber Type has incread in value count. "
   ]
  },
  {
   "cell_type": "code",
   "execution_count": 62,
   "metadata": {
    "scrolled": true
   },
   "outputs": [
    {
     "data": {
      "text/plain": [
       "1    55\n",
       "0    48\n",
       "2    18\n",
       "Name: Uber Type, dtype: int64"
      ]
     },
     "execution_count": 62,
     "metadata": {},
     "output_type": "execute_result"
    }
   ],
   "source": [
    "md['Uber Type'].value_counts()"
   ]
  },
  {
   "cell_type": "markdown",
   "metadata": {},
   "source": [
    "### Fixing Missing Fare Values\n",
    "\n",
    "There are 17 missing 'Fare' values.\n",
    "\n",
    "Initially, I tried finding correlations using the entire dataset. After finding little success with this attempt, I realised that the fare is calculated in different ways based on Uber Type. \n",
    "\n",
    "So, before I could do the linear regression on each Uber Type, I did a bit of pre-processing:\n",
    "\n",
    "- Firstly, I converted the Departure Date and Time to ordinal or numeric values in a new column as linear regression doesn't work on date data.\n",
    "\n",
    "- Then, I worked out the day of the week using dt.dayofweek in case the fare changes on weekdays vs weekends and created a new column. I had to go back and change the values after a forum post was made saying that weekdays should have a value of 0 and weekends should have a value of 1. This was simple enough, though, with a quick for loop.\n",
    "\n",
    "- From here, I split the dataset into sections according to Uber type to create three new dataframes.\n"
   ]
  },
  {
   "cell_type": "code",
   "execution_count": 63,
   "metadata": {},
   "outputs": [],
   "source": [
    "# Converting to ordinal values\n",
    "md['Ordinal Datetime'] = pd.to_datetime(md['Departure Date'] + ' ' + md['Departure Time']).map(dt.datetime.toordinal)\n",
    "\n",
    "# Finding day of week\n",
    "md['Departure Date'] = pd.to_datetime(md['Departure Date'], format='%Y-%m-%d')\n",
    "md['Weekday'] = md['Departure Date'].dt.dayofweek\n",
    "\n",
    "# Retroactively convert days to 0 for weekdays and 1 for weekends as per forum post.\n",
    "weekday = [0,1,2,3,4]\n",
    "\n",
    "for i in range(len(md['Weekday'])):\n",
    "    if md['Weekday'][i] in weekday:\n",
    "        md['Weekday'][i] = 0\n",
    "    else:\n",
    "        md['Weekday'][i] = 1\n",
    "\n",
    "# Create new dataframes\n",
    "uber_0 = md.loc[md['Uber Type'] == 0]\n",
    "uber_1 = md.loc[md['Uber Type'] == 1]\n",
    "uber_2 = md.loc[md['Uber Type'] == 2]"
   ]
  },
  {
   "cell_type": "markdown",
   "metadata": {},
   "source": [
    "#### Linear Regression - Uber Type 0\n",
    "\n",
    "Now for the linear regression on uber Type 0. First, we use .corr() to find the correlations between each variable and the fare for Uber type 0\n"
   ]
  },
  {
   "cell_type": "code",
   "execution_count": 64,
   "metadata": {},
   "outputs": [
    {
     "data": {
      "text/html": [
       "<div>\n",
       "<style scoped>\n",
       "    .dataframe tbody tr th:only-of-type {\n",
       "        vertical-align: middle;\n",
       "    }\n",
       "\n",
       "    .dataframe tbody tr th {\n",
       "        vertical-align: top;\n",
       "    }\n",
       "\n",
       "    .dataframe thead th {\n",
       "        text-align: right;\n",
       "    }\n",
       "</style>\n",
       "<table border=\"1\" class=\"dataframe\">\n",
       "  <thead>\n",
       "    <tr style=\"text-align: right;\">\n",
       "      <th></th>\n",
       "      <th>Origin Region</th>\n",
       "      <th>Destination Region</th>\n",
       "      <th>Journey Distance(m)</th>\n",
       "      <th>Travel Time(s)</th>\n",
       "      <th>Ordinal Datetime</th>\n",
       "      <th>Weekday</th>\n",
       "      <th>Fare$</th>\n",
       "    </tr>\n",
       "  </thead>\n",
       "  <tbody>\n",
       "    <tr>\n",
       "      <th>Origin Region</th>\n",
       "      <td>1.000000</td>\n",
       "      <td>-0.019414</td>\n",
       "      <td>0.431531</td>\n",
       "      <td>0.457341</td>\n",
       "      <td>0.308930</td>\n",
       "      <td>-0.291233</td>\n",
       "      <td>0.187420</td>\n",
       "    </tr>\n",
       "    <tr>\n",
       "      <th>Destination Region</th>\n",
       "      <td>-0.019414</td>\n",
       "      <td>1.000000</td>\n",
       "      <td>0.608083</td>\n",
       "      <td>0.614671</td>\n",
       "      <td>0.020067</td>\n",
       "      <td>0.200628</td>\n",
       "      <td>0.611146</td>\n",
       "    </tr>\n",
       "    <tr>\n",
       "      <th>Journey Distance(m)</th>\n",
       "      <td>0.431531</td>\n",
       "      <td>0.608083</td>\n",
       "      <td>1.000000</td>\n",
       "      <td>0.996621</td>\n",
       "      <td>0.075469</td>\n",
       "      <td>0.028246</td>\n",
       "      <td>0.895805</td>\n",
       "    </tr>\n",
       "    <tr>\n",
       "      <th>Travel Time(s)</th>\n",
       "      <td>0.457341</td>\n",
       "      <td>0.614671</td>\n",
       "      <td>0.996621</td>\n",
       "      <td>1.000000</td>\n",
       "      <td>0.062929</td>\n",
       "      <td>0.023555</td>\n",
       "      <td>0.886150</td>\n",
       "    </tr>\n",
       "    <tr>\n",
       "      <th>Ordinal Datetime</th>\n",
       "      <td>0.308930</td>\n",
       "      <td>0.020067</td>\n",
       "      <td>0.075469</td>\n",
       "      <td>0.062929</td>\n",
       "      <td>1.000000</td>\n",
       "      <td>0.050351</td>\n",
       "      <td>-0.097249</td>\n",
       "    </tr>\n",
       "    <tr>\n",
       "      <th>Weekday</th>\n",
       "      <td>-0.291233</td>\n",
       "      <td>0.200628</td>\n",
       "      <td>0.028246</td>\n",
       "      <td>0.023555</td>\n",
       "      <td>0.050351</td>\n",
       "      <td>1.000000</td>\n",
       "      <td>0.264920</td>\n",
       "    </tr>\n",
       "    <tr>\n",
       "      <th>Fare$</th>\n",
       "      <td>0.187420</td>\n",
       "      <td>0.611146</td>\n",
       "      <td>0.895805</td>\n",
       "      <td>0.886150</td>\n",
       "      <td>-0.097249</td>\n",
       "      <td>0.264920</td>\n",
       "      <td>1.000000</td>\n",
       "    </tr>\n",
       "  </tbody>\n",
       "</table>\n",
       "</div>"
      ],
      "text/plain": [
       "                     Origin Region  Destination Region  Journey Distance(m)  \\\n",
       "Origin Region             1.000000           -0.019414             0.431531   \n",
       "Destination Region       -0.019414            1.000000             0.608083   \n",
       "Journey Distance(m)       0.431531            0.608083             1.000000   \n",
       "Travel Time(s)            0.457341            0.614671             0.996621   \n",
       "Ordinal Datetime          0.308930            0.020067             0.075469   \n",
       "Weekday                  -0.291233            0.200628             0.028246   \n",
       "Fare$                     0.187420            0.611146             0.895805   \n",
       "\n",
       "                     Travel Time(s)  Ordinal Datetime   Weekday     Fare$  \n",
       "Origin Region              0.457341          0.308930 -0.291233  0.187420  \n",
       "Destination Region         0.614671          0.020067  0.200628  0.611146  \n",
       "Journey Distance(m)        0.996621          0.075469  0.028246  0.895805  \n",
       "Travel Time(s)             1.000000          0.062929  0.023555  0.886150  \n",
       "Ordinal Datetime           0.062929          1.000000  0.050351 -0.097249  \n",
       "Weekday                    0.023555          0.050351  1.000000  0.264920  \n",
       "Fare$                      0.886150         -0.097249  0.264920  1.000000  "
      ]
     },
     "metadata": {},
     "output_type": "display_data"
    }
   ],
   "source": [
    "# Find correlations\n",
    "correlations_0 = uber_0[['Origin Region', 'Destination Region',  'Journey Distance(m)', 'Travel Time(s)',\n",
    "                         'Arrival Time', 'Ordinal Datetime', 'Weekday', 'Fare$']].corr()\n",
    "# Display\n",
    "display(correlations_0)"
   ]
  },
  {
   "cell_type": "markdown",
   "metadata": {},
   "source": [
    "From the above table, we can see that the Fare value shares a strong positive correlation with 'Destination Region', 'Journey Distance', and 'Travel Time(s)'. It also shares a postive correlation with 'Origin Region' and 'Weekday', but it is  weak.\n",
    "\n",
    "However, I will still add these values as, through trial and error, I found that the R-squared value is higher when these variables.\n"
   ]
  },
  {
   "cell_type": "code",
   "execution_count": 65,
   "metadata": {},
   "outputs": [
    {
     "data": {
      "text/plain": [
       "Origin Region          0\n",
       "Destination Region     0\n",
       "Journey Distance(m)    0\n",
       "Travel Time(s)         0\n",
       "Weekday                0\n",
       "Fare$                  6\n",
       "dtype: int64"
      ]
     },
     "execution_count": 65,
     "metadata": {},
     "output_type": "execute_result"
    }
   ],
   "source": [
    "# Creating new dataframe with relevant columns\n",
    "fare_0 = pd.DataFrame(uber_0[['Origin Region', 'Destination Region', 'Journey Distance(m)', 'Travel Time(s)', 'Weekday', 'Fare$']], \n",
    "                      columns=['Origin Region', 'Destination Region','Journey Distance(m)', 'Travel Time(s)', 'Weekday', 'Fare$'])\n",
    "\n",
    "# Checking the null values\n",
    "fare_0.isnull().sum()"
   ]
  },
  {
   "cell_type": "markdown",
   "metadata": {},
   "source": [
    "Next, we create the training model using train_test_split from sklearn. I created a new dataframe which is a copy of fare_0 but with dropped the NaN values. I then split this into test and train sets with 20% of the data going to the test data and the rest remaining in the training set. I then fit the data with LinearRegression()."
   ]
  },
  {
   "cell_type": "code",
   "execution_count": 66,
   "metadata": {},
   "outputs": [],
   "source": [
    "# Drop NaN values\n",
    "nonan_0 = fare_0.dropna()\n",
    "\n",
    "# Split the into test and train sets\n",
    "train, test = train_test_split(nonan_0, test_size=0.2)\n",
    "\n",
    "# Fit the data\n",
    "linear_reg_0 = LinearRegression().fit(nonan_0[['Origin Region', 'Destination Region','Journey Distance(m)', 'Travel Time(s)', 'Weekday']], nonan_0['Fare$']) "
   ]
  },
  {
   "cell_type": "markdown",
   "metadata": {},
   "source": [
    "Next, I check the accuracy of the model using R square and mean squared error (MSE). "
   ]
  },
  {
   "cell_type": "code",
   "execution_count": 67,
   "metadata": {},
   "outputs": [
    {
     "name": "stdout",
     "output_type": "stream",
     "text": [
      "R square :0.8629107364947152\n",
      "MSE :9.778698626608573\n"
     ]
    }
   ],
   "source": [
    "# Predict the fare\n",
    "nonan_0['Predict Fare'] = linear_reg_0.predict(nonan_0[['Origin Region', 'Destination Region', 'Journey Distance(m)', 'Travel Time(s)', 'Weekday']])\n",
    "\n",
    "# Check for R squared and MSE values\n",
    "y_true = nonan_0['Fare$']\n",
    "y_pred = nonan_0['Predict Fare']\n",
    "\n",
    "print('R square :' + str(r2_score(y_true, y_pred)))\n",
    "print('MSE :' + str(mean_squared_error(y_true, y_pred)))"
   ]
  },
  {
   "cell_type": "markdown",
   "metadata": {},
   "source": [
    "I'm happy with the accuracy of the model, so now I'll apply it to the dataset.\n"
   ]
  },
  {
   "cell_type": "code",
   "execution_count": 68,
   "metadata": {},
   "outputs": [],
   "source": [
    "# Function for replacing the NaN fare values\n",
    "def replace_null_fare_0(row):\n",
    "    # Predict\n",
    "    predicted_fare = linear_reg_0.predict([[row['Origin Region'], row['Destination Region'],row['Journey Distance(m)'], row['Travel Time(s)'], row['Weekday']]])\n",
    "    # Round the value\n",
    "    predicted_fare = round(predicted_fare[0],2)\n",
    "    # Apply to row\n",
    "    row['Fare$'] = predicted_fare\n",
    "    return row\n",
    "\n",
    "# Applying the function\n",
    "uber_0[uber_0['Fare$'].isnull() == True] = uber_0[uber_0['Fare$'].isnull() == True].apply(lambda row: replace_null_fare_0(row), axis=1)    \n"
   ]
  },
  {
   "cell_type": "markdown",
   "metadata": {},
   "source": [
    "#### Linear Regression - Uber Type 1\n",
    "\n",
    "Now we can enact the same process for Uber type 1.\n",
    "\n"
   ]
  },
  {
   "cell_type": "code",
   "execution_count": 69,
   "metadata": {},
   "outputs": [
    {
     "data": {
      "text/html": [
       "<div>\n",
       "<style scoped>\n",
       "    .dataframe tbody tr th:only-of-type {\n",
       "        vertical-align: middle;\n",
       "    }\n",
       "\n",
       "    .dataframe tbody tr th {\n",
       "        vertical-align: top;\n",
       "    }\n",
       "\n",
       "    .dataframe thead th {\n",
       "        text-align: right;\n",
       "    }\n",
       "</style>\n",
       "<table border=\"1\" class=\"dataframe\">\n",
       "  <thead>\n",
       "    <tr style=\"text-align: right;\">\n",
       "      <th></th>\n",
       "      <th>Origin Region</th>\n",
       "      <th>Destination Region</th>\n",
       "      <th>Journey Distance(m)</th>\n",
       "      <th>Travel Time(s)</th>\n",
       "      <th>Ordinal Datetime</th>\n",
       "      <th>Weekday</th>\n",
       "      <th>Fare$</th>\n",
       "    </tr>\n",
       "  </thead>\n",
       "  <tbody>\n",
       "    <tr>\n",
       "      <th>Origin Region</th>\n",
       "      <td>1.000000</td>\n",
       "      <td>-0.014853</td>\n",
       "      <td>0.385294</td>\n",
       "      <td>0.429134</td>\n",
       "      <td>0.151248</td>\n",
       "      <td>-0.030918</td>\n",
       "      <td>0.359976</td>\n",
       "    </tr>\n",
       "    <tr>\n",
       "      <th>Destination Region</th>\n",
       "      <td>-0.014853</td>\n",
       "      <td>1.000000</td>\n",
       "      <td>0.555092</td>\n",
       "      <td>0.571494</td>\n",
       "      <td>0.134074</td>\n",
       "      <td>0.164123</td>\n",
       "      <td>0.565091</td>\n",
       "    </tr>\n",
       "    <tr>\n",
       "      <th>Journey Distance(m)</th>\n",
       "      <td>0.385294</td>\n",
       "      <td>0.555092</td>\n",
       "      <td>1.000000</td>\n",
       "      <td>0.993787</td>\n",
       "      <td>0.196841</td>\n",
       "      <td>0.238660</td>\n",
       "      <td>0.943930</td>\n",
       "    </tr>\n",
       "    <tr>\n",
       "      <th>Travel Time(s)</th>\n",
       "      <td>0.429134</td>\n",
       "      <td>0.571494</td>\n",
       "      <td>0.993787</td>\n",
       "      <td>1.000000</td>\n",
       "      <td>0.203951</td>\n",
       "      <td>0.232314</td>\n",
       "      <td>0.954765</td>\n",
       "    </tr>\n",
       "    <tr>\n",
       "      <th>Ordinal Datetime</th>\n",
       "      <td>0.151248</td>\n",
       "      <td>0.134074</td>\n",
       "      <td>0.196841</td>\n",
       "      <td>0.203951</td>\n",
       "      <td>1.000000</td>\n",
       "      <td>0.036746</td>\n",
       "      <td>0.249515</td>\n",
       "    </tr>\n",
       "    <tr>\n",
       "      <th>Weekday</th>\n",
       "      <td>-0.030918</td>\n",
       "      <td>0.164123</td>\n",
       "      <td>0.238660</td>\n",
       "      <td>0.232314</td>\n",
       "      <td>0.036746</td>\n",
       "      <td>1.000000</td>\n",
       "      <td>0.313206</td>\n",
       "    </tr>\n",
       "    <tr>\n",
       "      <th>Fare$</th>\n",
       "      <td>0.359976</td>\n",
       "      <td>0.565091</td>\n",
       "      <td>0.943930</td>\n",
       "      <td>0.954765</td>\n",
       "      <td>0.249515</td>\n",
       "      <td>0.313206</td>\n",
       "      <td>1.000000</td>\n",
       "    </tr>\n",
       "  </tbody>\n",
       "</table>\n",
       "</div>"
      ],
      "text/plain": [
       "                     Origin Region  Destination Region  Journey Distance(m)  \\\n",
       "Origin Region             1.000000           -0.014853             0.385294   \n",
       "Destination Region       -0.014853            1.000000             0.555092   \n",
       "Journey Distance(m)       0.385294            0.555092             1.000000   \n",
       "Travel Time(s)            0.429134            0.571494             0.993787   \n",
       "Ordinal Datetime          0.151248            0.134074             0.196841   \n",
       "Weekday                  -0.030918            0.164123             0.238660   \n",
       "Fare$                     0.359976            0.565091             0.943930   \n",
       "\n",
       "                     Travel Time(s)  Ordinal Datetime   Weekday     Fare$  \n",
       "Origin Region              0.429134          0.151248 -0.030918  0.359976  \n",
       "Destination Region         0.571494          0.134074  0.164123  0.565091  \n",
       "Journey Distance(m)        0.993787          0.196841  0.238660  0.943930  \n",
       "Travel Time(s)             1.000000          0.203951  0.232314  0.954765  \n",
       "Ordinal Datetime           0.203951          1.000000  0.036746  0.249515  \n",
       "Weekday                    0.232314          0.036746  1.000000  0.313206  \n",
       "Fare$                      0.954765          0.249515  0.313206  1.000000  "
      ]
     },
     "metadata": {},
     "output_type": "display_data"
    }
   ],
   "source": [
    "# Finding correlations\n",
    "correlations_1 = uber_1[['Origin Region', 'Destination Region',  'Journey Distance(m)', 'Departure Date', \n",
    "                         'Departure Time', 'Arrival Time', 'Travel Time(s)', 'Ordinal Datetime', 'Weekday', 'Fare$']].corr()\n",
    "\n",
    "display(correlations_1)"
   ]
  },
  {
   "cell_type": "code",
   "execution_count": 70,
   "metadata": {},
   "outputs": [
    {
     "data": {
      "text/plain": [
       "Origin Region          0\n",
       "Destination Region     0\n",
       "Journey Distance(m)    0\n",
       "Travel Time(s)         0\n",
       "Ordinal Datetime       0\n",
       "Weekday                0\n",
       "Fare$                  7\n",
       "dtype: int64"
      ]
     },
     "execution_count": 70,
     "metadata": {},
     "output_type": "execute_result"
    }
   ],
   "source": [
    "# Creating new datframe with relevant columns\n",
    "\n",
    "fare_1 = pd.DataFrame(uber_1[['Origin Region', 'Destination Region', 'Journey Distance(m)', 'Travel Time(s)', 'Ordinal Datetime', 'Weekday', 'Fare$']], \n",
    "                      columns=[ 'Origin Region', 'Destination Region','Journey Distance(m)', 'Travel Time(s)', 'Ordinal Datetime', 'Weekday', 'Fare$'])\n",
    "\n",
    "# Finding sum of NaN values\n",
    "fare_1.isnull().sum()"
   ]
  },
  {
   "cell_type": "code",
   "execution_count": 71,
   "metadata": {},
   "outputs": [],
   "source": [
    "# Drop NaN values\n",
    "nonan_1 = fare_1.dropna()\n",
    "\n",
    "# Split into test and train set\n",
    "train, test = train_test_split(nonan_1, test_size=0.2)\n",
    "\n",
    "# Fit the data\n",
    "linear_reg_1 = LinearRegression().fit(nonan_1[['Origin Region', 'Destination Region', 'Journey Distance(m)', \n",
    "                                  'Travel Time(s)','Ordinal Datetime', 'Weekday']], nonan_1['Fare$']) "
   ]
  },
  {
   "cell_type": "code",
   "execution_count": 72,
   "metadata": {},
   "outputs": [
    {
     "name": "stdout",
     "output_type": "stream",
     "text": [
      "R square :0.9354993629274956\n",
      "MSE :12.322105660851358\n"
     ]
    }
   ],
   "source": [
    "# Predict \n",
    "nonan_1['predDelFare2'] = linear_reg_1.predict(nonan_1[['Origin Region', 'Destination Region',\n",
    "                                         'Journey Distance(m)', 'Travel Time(s)','Ordinal Datetime', 'Weekday']])\n",
    "# Check R squared and MSE\n",
    "y_true = nonan_1['Fare$']\n",
    "y_pred = nonan_1['predDelFare2']\n",
    "print('R square :'+str(r2_score(y_true, y_pred)))\n",
    "print('MSE :'+str(mean_squared_error(y_true, y_pred)))"
   ]
  },
  {
   "cell_type": "code",
   "execution_count": 73,
   "metadata": {},
   "outputs": [],
   "source": [
    "# Replace NaN values\n",
    "def replace_null_fare_1(row):\n",
    "    predicted_fare_1 = linear_reg_1.predict([[row['Origin Region'], row['Destination Region'], \n",
    "                                              row['Journey Distance(m)'], row['Travel Time(s)'], \n",
    "                                              row['Ordinal Datetime'], row['Weekday']]])\n",
    "    predicted_fare_1 = round(predicted_fare_1[0],2)\n",
    "    row['Fare$'] = predicted_fare_1\n",
    "    return row\n",
    "\n",
    "uber_1[uber_1['Fare$'].isnull() == True] = uber_1[uber_1['Fare$'].isnull() == True].apply(lambda row: replace_null_fare_1(row), axis=1)    "
   ]
  },
  {
   "cell_type": "markdown",
   "metadata": {},
   "source": [
    "#### Linear Regresion - Uber Type 2\n"
   ]
  },
  {
   "cell_type": "code",
   "execution_count": 74,
   "metadata": {},
   "outputs": [
    {
     "data": {
      "text/html": [
       "<div>\n",
       "<style scoped>\n",
       "    .dataframe tbody tr th:only-of-type {\n",
       "        vertical-align: middle;\n",
       "    }\n",
       "\n",
       "    .dataframe tbody tr th {\n",
       "        vertical-align: top;\n",
       "    }\n",
       "\n",
       "    .dataframe thead th {\n",
       "        text-align: right;\n",
       "    }\n",
       "</style>\n",
       "<table border=\"1\" class=\"dataframe\">\n",
       "  <thead>\n",
       "    <tr style=\"text-align: right;\">\n",
       "      <th></th>\n",
       "      <th>Origin Region</th>\n",
       "      <th>Destination Region</th>\n",
       "      <th>Journey Distance(m)</th>\n",
       "      <th>Travel Time(s)</th>\n",
       "      <th>Ordinal Datetime</th>\n",
       "      <th>Weekday</th>\n",
       "      <th>Fare$</th>\n",
       "    </tr>\n",
       "  </thead>\n",
       "  <tbody>\n",
       "    <tr>\n",
       "      <th>Origin Region</th>\n",
       "      <td>1.000000</td>\n",
       "      <td>-0.492284</td>\n",
       "      <td>0.236273</td>\n",
       "      <td>0.272836</td>\n",
       "      <td>0.273124</td>\n",
       "      <td>-0.213012</td>\n",
       "      <td>0.169627</td>\n",
       "    </tr>\n",
       "    <tr>\n",
       "      <th>Destination Region</th>\n",
       "      <td>-0.492284</td>\n",
       "      <td>1.000000</td>\n",
       "      <td>0.240551</td>\n",
       "      <td>0.238723</td>\n",
       "      <td>0.389866</td>\n",
       "      <td>-0.037275</td>\n",
       "      <td>0.365326</td>\n",
       "    </tr>\n",
       "    <tr>\n",
       "      <th>Journey Distance(m)</th>\n",
       "      <td>0.236273</td>\n",
       "      <td>0.240551</td>\n",
       "      <td>1.000000</td>\n",
       "      <td>0.995613</td>\n",
       "      <td>0.349393</td>\n",
       "      <td>-0.195288</td>\n",
       "      <td>0.995347</td>\n",
       "    </tr>\n",
       "    <tr>\n",
       "      <th>Travel Time(s)</th>\n",
       "      <td>0.272836</td>\n",
       "      <td>0.238723</td>\n",
       "      <td>0.995613</td>\n",
       "      <td>1.000000</td>\n",
       "      <td>0.383396</td>\n",
       "      <td>-0.206508</td>\n",
       "      <td>0.999651</td>\n",
       "    </tr>\n",
       "    <tr>\n",
       "      <th>Ordinal Datetime</th>\n",
       "      <td>0.273124</td>\n",
       "      <td>0.389866</td>\n",
       "      <td>0.349393</td>\n",
       "      <td>0.383396</td>\n",
       "      <td>1.000000</td>\n",
       "      <td>0.015104</td>\n",
       "      <td>0.272150</td>\n",
       "    </tr>\n",
       "    <tr>\n",
       "      <th>Weekday</th>\n",
       "      <td>-0.213012</td>\n",
       "      <td>-0.037275</td>\n",
       "      <td>-0.195288</td>\n",
       "      <td>-0.206508</td>\n",
       "      <td>0.015104</td>\n",
       "      <td>1.000000</td>\n",
       "      <td>-0.190079</td>\n",
       "    </tr>\n",
       "    <tr>\n",
       "      <th>Fare$</th>\n",
       "      <td>0.169627</td>\n",
       "      <td>0.365326</td>\n",
       "      <td>0.995347</td>\n",
       "      <td>0.999651</td>\n",
       "      <td>0.272150</td>\n",
       "      <td>-0.190079</td>\n",
       "      <td>1.000000</td>\n",
       "    </tr>\n",
       "  </tbody>\n",
       "</table>\n",
       "</div>"
      ],
      "text/plain": [
       "                     Origin Region  Destination Region  Journey Distance(m)  \\\n",
       "Origin Region             1.000000           -0.492284             0.236273   \n",
       "Destination Region       -0.492284            1.000000             0.240551   \n",
       "Journey Distance(m)       0.236273            0.240551             1.000000   \n",
       "Travel Time(s)            0.272836            0.238723             0.995613   \n",
       "Ordinal Datetime          0.273124            0.389866             0.349393   \n",
       "Weekday                  -0.213012           -0.037275            -0.195288   \n",
       "Fare$                     0.169627            0.365326             0.995347   \n",
       "\n",
       "                     Travel Time(s)  Ordinal Datetime   Weekday     Fare$  \n",
       "Origin Region              0.272836          0.273124 -0.213012  0.169627  \n",
       "Destination Region         0.238723          0.389866 -0.037275  0.365326  \n",
       "Journey Distance(m)        0.995613          0.349393 -0.195288  0.995347  \n",
       "Travel Time(s)             1.000000          0.383396 -0.206508  0.999651  \n",
       "Ordinal Datetime           0.383396          1.000000  0.015104  0.272150  \n",
       "Weekday                   -0.206508          0.015104  1.000000 -0.190079  \n",
       "Fare$                      0.999651          0.272150 -0.190079  1.000000  "
      ]
     },
     "metadata": {},
     "output_type": "display_data"
    }
   ],
   "source": [
    "# Finding correlations\n",
    "correlations_2 = uber_2[['Origin Region', 'Destination Region',  'Journey Distance(m)', 'Departure Date', \n",
    "                         'Departure Time', 'Arrival Time', 'Travel Time(s)', 'Ordinal Datetime', 'Weekday', 'Fare$']].corr()\n",
    "\n",
    "display(correlations_2)"
   ]
  },
  {
   "cell_type": "code",
   "execution_count": 75,
   "metadata": {},
   "outputs": [
    {
     "data": {
      "text/plain": [
       "Origin Region          0\n",
       "Destination Region     0\n",
       "Journey Distance(m)    0\n",
       "Travel Time(s)         0\n",
       "Ordinal Datetime       0\n",
       "Fare$                  4\n",
       "dtype: int64"
      ]
     },
     "execution_count": 75,
     "metadata": {},
     "output_type": "execute_result"
    }
   ],
   "source": [
    "# Creating new datframe\n",
    "fare_2 = pd.DataFrame(uber_2[['Origin Region', 'Destination Region','Journey Distance(m)', 'Travel Time(s)','Ordinal Datetime', 'Fare$']], \n",
    "                      columns=['Origin Region', 'Destination Region','Journey Distance(m)', 'Travel Time(s)','Ordinal Datetime', 'Fare$'])\n",
    "# Checking NaN values\n",
    "fare_2.isnull().sum()"
   ]
  },
  {
   "cell_type": "code",
   "execution_count": 76,
   "metadata": {},
   "outputs": [],
   "source": [
    "# Drop NaN values\n",
    "fare_nonan_2 = fare_2.dropna()\n",
    "\n",
    "# Split into test and train set\n",
    "train, test = train_test_split(fare_nonan_2 , test_size=0.2)\n",
    "\n",
    "# Fit the data\n",
    "linear_reg_2 = LinearRegression().fit(fare_nonan_2 [['Origin Region', 'Destination Region','Journey Distance(m)',\n",
    "                                  'Travel Time(s)', 'Ordinal Datetime']], fare_nonan_2 ['Fare$']) "
   ]
  },
  {
   "cell_type": "code",
   "execution_count": 77,
   "metadata": {},
   "outputs": [
    {
     "name": "stdout",
     "output_type": "stream",
     "text": [
      "R square :0.9998636403422193\n",
      "MSE :10.752632498653059\n"
     ]
    }
   ],
   "source": [
    "# Predict\n",
    "fare_nonan_2['predDelFare2'] = linear_reg_2.predict(fare_nonan_2 [['Origin Region', 'Destination Region','Journey Distance(m)', \n",
    "                                                                   'Travel Time(s)', 'Ordinal Datetime']])\n",
    "# Check R squared and MSE\n",
    "y_true = fare_nonan_2 ['Fare$']\n",
    "y_pred = fare_nonan_2 ['predDelFare2']\n",
    "\n",
    "print('R square :' + str(r2_score(y_true, y_pred)))\n",
    "print('MSE :' + str(mean_squared_error(y_true, y_pred)))"
   ]
  },
  {
   "cell_type": "code",
   "execution_count": 78,
   "metadata": {},
   "outputs": [],
   "source": [
    "# Replace NaN values\n",
    "def replace_null_fare_2(row):\n",
    "    predicted_fare_2 = linear_reg_2.predict([[ row['Origin Region'], row['Destination Region'], row['Journey Distance(m)'], row['Travel Time(s)'], row['Ordinal Datetime']]])\n",
    "    predicted_fare_2 = round(predicted_fare_2[0],2)\n",
    "    row['Fare$'] = predicted_fare_2\n",
    "    return row\n",
    "\n",
    "uber_2[uber_2['Fare$'].isnull()==True]=uber_2[uber_2['Fare$'].isnull()==True].apply(lambda row: replace_null_fare_2(row), axis=1)    "
   ]
  },
  {
   "cell_type": "markdown",
   "metadata": {},
   "source": [
    "### Put Dataframe Back Together and Save\n",
    "\n",
    "\n",
    "Finally, all that is left is to clean up the dataframe and save it to a file\n",
    "\n"
   ]
  },
  {
   "cell_type": "code",
   "execution_count": 79,
   "metadata": {},
   "outputs": [
    {
     "name": "stdout",
     "output_type": "stream",
     "text": [
      "(121, 14)\n"
     ]
    }
   ],
   "source": [
    "# Append the dataframes together\n",
    "result_1 = uber_0.append(uber_1)\n",
    "result = result_1.append(uber_2)\n",
    "\n",
    "# Drop temporary columns\n",
    "result.drop(['Ordinal Datetime', 'Weekday'], axis = 1, inplace = True)\n",
    "\n",
    "# Sort on the axis \n",
    "result.sort_index(axis=0, inplace = True)\n",
    "\n",
    "# Rename ID column back to original\n",
    "result.rename(columns={'ID': ''}, inplace=True)\n",
    "\n",
    "# Check shape is the same\n",
    "print(result.shape)\n",
    "\n",
    "# Save to file\n",
    "result.to_csv('30042585.missing_value_solution.csv', index = False)"
   ]
  },
  {
   "cell_type": "markdown",
   "metadata": {},
   "source": [
    "## 6. Summary\n",
    "\n",
    "This assignment involved the wrangling of datafiles with Uber ridesharing data. I used various detection, cleaning, and imputing methods to complete it. The main tasks are summarised as follows:\n",
    "\n",
    "\n",
    "- **Dirty Data Wrangling**. This was a long process with a lot of trial and error involved. Having to check every single column was arduous, and left room for error. However, I did my best and I think that I located and fixed most of the erros in the dataset. \n",
    "\n",
    "\n",
    "- **Outlier Data Wrangling**. This was a relatively straightforward task. By using the outlier detection approach that I used, I was able to quickly find the outliers and use the same process for each outlier variable, which made the task quick to finish. I found that most of the outliers were from Uber Type 2, which made me think that maybe it would have been good to have the dataset split into three different datasets, one for each Uber Type. However, that's not what the assignment asked for!\n",
    "\n",
    "\n",
    "- **Missing Data Wrangling**. This was a relatively uncomplicated task as there are a lot of great packages within python that allow users to do linear regression really easily. In addition, although it's not perfect, using linear regression is a great way to impute missing values. \n",
    "\n"
   ]
  },
  {
   "cell_type": "markdown",
   "metadata": {},
   "source": [
    "## 7. References\n",
    "\n",
    "\n",
    "- Hagberg A, Schult D, Swart P. (2019 April 11). *NetworkX Reference Release 2.3*. Retrieved from https://networkx.github.io/documentation/stable/_downloads/networkx_reference.pdf\n",
    "\n",
    "- Chauhan, N. (2019 February 25). *A beginner’s guide to Linear Regression in Python with Scikit-Learn*. Retrieved from https://towardsdatascience.com/a-beginners-guide-to-linear-regression-in-python-with-scikit-learn-83a8f7ae2b4f\n",
    "\n",
    "- Scikit-learn. (2019). *sklearn.neighbors.KNeighborsClassifier*. Retrieved from https://scikitlearn.org/stable/modules/generated/sklearn.neighbors.KNeighborsClassifier.html\n",
    "\n",
    "- The pandas Project. (2016). *pandas 0.19.2 documentation: pandas.DataFrame.groupby*. Retrieved from https://pandas.pydata.org/pandas-docs/stable/reference/api/pandas.DataFrame.groupby.html#pandas-dataframe-groupby\n"
   ]
  }
 ],
 "metadata": {
  "kernelspec": {
   "display_name": "Python 3",
   "language": "python",
   "name": "python3"
  },
  "language_info": {
   "codemirror_mode": {
    "name": "ipython",
    "version": 3
   },
   "file_extension": ".py",
   "mimetype": "text/x-python",
   "name": "python",
   "nbconvert_exporter": "python",
   "pygments_lexer": "ipython3",
   "version": "3.7.1"
  }
 },
 "nbformat": 4,
 "nbformat_minor": 2
}
